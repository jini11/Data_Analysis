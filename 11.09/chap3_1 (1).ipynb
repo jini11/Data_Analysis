{
  "nbformat": 4,
  "nbformat_minor": 0,
  "metadata": {
    "kernelspec": {
      "display_name": "Python 3",
      "language": "python",
      "name": "python3"
    },
    "language_info": {
      "codemirror_mode": {
        "name": "ipython",
        "version": 3
      },
      "file_extension": ".py",
      "mimetype": "text/x-python",
      "name": "python",
      "nbconvert_exporter": "python",
      "pygments_lexer": "ipython3",
      "version": "3.7.7"
    },
    "colab": {
      "name": "chap3-1.ipynb",
      "provenance": []
    }
  },
  "cells": [
    {
      "cell_type": "markdown",
      "metadata": {
        "id": "jIvvI7EFYoV-"
      },
      "source": [
        "### 3-1．데이터의 이해\n",
        "#### 데이터 리드"
      ]
    },
    {
      "cell_type": "code",
      "metadata": {
        "colab": {
          "base_uri": "https://localhost:8080/",
          "height": 205
        },
        "id": "j6FRr1t8YoWC",
        "outputId": "8344be2e-7dae-47dc-8127-947e53c400f2"
      },
      "source": [
        "# Pandas의 로드\n",
        "import pandas as pd\n",
        "\n",
        "# 파일을 리드\n",
        "bank_df = pd.read_csv('bank.csv', sep=',')\n",
        "\n",
        "# 선두에서 5행까지 표시\n",
        "bank_df.head()"
      ],
      "execution_count": null,
      "outputs": [
        {
          "output_type": "execute_result",
          "data": {
            "text/html": [
              "<div>\n",
              "<style scoped>\n",
              "    .dataframe tbody tr th:only-of-type {\n",
              "        vertical-align: middle;\n",
              "    }\n",
              "\n",
              "    .dataframe tbody tr th {\n",
              "        vertical-align: top;\n",
              "    }\n",
              "\n",
              "    .dataframe thead th {\n",
              "        text-align: right;\n",
              "    }\n",
              "</style>\n",
              "<table border=\"1\" class=\"dataframe\">\n",
              "  <thead>\n",
              "    <tr style=\"text-align: right;\">\n",
              "      <th></th>\n",
              "      <th>age</th>\n",
              "      <th>job</th>\n",
              "      <th>marital</th>\n",
              "      <th>education</th>\n",
              "      <th>default</th>\n",
              "      <th>balance</th>\n",
              "      <th>housing</th>\n",
              "      <th>loan</th>\n",
              "      <th>contact</th>\n",
              "      <th>day</th>\n",
              "      <th>month</th>\n",
              "      <th>duration</th>\n",
              "      <th>campaign</th>\n",
              "      <th>pdays</th>\n",
              "      <th>previous</th>\n",
              "      <th>poutcome</th>\n",
              "      <th>y</th>\n",
              "    </tr>\n",
              "  </thead>\n",
              "  <tbody>\n",
              "    <tr>\n",
              "      <th>0</th>\n",
              "      <td>58</td>\n",
              "      <td>management</td>\n",
              "      <td>married</td>\n",
              "      <td>tertiary</td>\n",
              "      <td>no</td>\n",
              "      <td>2143</td>\n",
              "      <td>yes</td>\n",
              "      <td>no</td>\n",
              "      <td>NaN</td>\n",
              "      <td>5</td>\n",
              "      <td>may</td>\n",
              "      <td>261</td>\n",
              "      <td>1</td>\n",
              "      <td>-1</td>\n",
              "      <td>0</td>\n",
              "      <td>NaN</td>\n",
              "      <td>no</td>\n",
              "    </tr>\n",
              "    <tr>\n",
              "      <th>1</th>\n",
              "      <td>36</td>\n",
              "      <td>technician</td>\n",
              "      <td>single</td>\n",
              "      <td>secondary</td>\n",
              "      <td>no</td>\n",
              "      <td>265</td>\n",
              "      <td>yes</td>\n",
              "      <td>yes</td>\n",
              "      <td>NaN</td>\n",
              "      <td>5</td>\n",
              "      <td>may</td>\n",
              "      <td>348</td>\n",
              "      <td>1</td>\n",
              "      <td>-1</td>\n",
              "      <td>0</td>\n",
              "      <td>NaN</td>\n",
              "      <td>no</td>\n",
              "    </tr>\n",
              "    <tr>\n",
              "      <th>2</th>\n",
              "      <td>25</td>\n",
              "      <td>blue-collar</td>\n",
              "      <td>married</td>\n",
              "      <td>secondary</td>\n",
              "      <td>no</td>\n",
              "      <td>-7</td>\n",
              "      <td>yes</td>\n",
              "      <td>no</td>\n",
              "      <td>NaN</td>\n",
              "      <td>5</td>\n",
              "      <td>may</td>\n",
              "      <td>365</td>\n",
              "      <td>1</td>\n",
              "      <td>-1</td>\n",
              "      <td>0</td>\n",
              "      <td>NaN</td>\n",
              "      <td>no</td>\n",
              "    </tr>\n",
              "    <tr>\n",
              "      <th>3</th>\n",
              "      <td>53</td>\n",
              "      <td>technician</td>\n",
              "      <td>married</td>\n",
              "      <td>secondary</td>\n",
              "      <td>no</td>\n",
              "      <td>-3</td>\n",
              "      <td>no</td>\n",
              "      <td>no</td>\n",
              "      <td>NaN</td>\n",
              "      <td>5</td>\n",
              "      <td>may</td>\n",
              "      <td>1666</td>\n",
              "      <td>1</td>\n",
              "      <td>-1</td>\n",
              "      <td>0</td>\n",
              "      <td>NaN</td>\n",
              "      <td>no</td>\n",
              "    </tr>\n",
              "    <tr>\n",
              "      <th>4</th>\n",
              "      <td>24</td>\n",
              "      <td>technician</td>\n",
              "      <td>single</td>\n",
              "      <td>secondary</td>\n",
              "      <td>no</td>\n",
              "      <td>-103</td>\n",
              "      <td>yes</td>\n",
              "      <td>yes</td>\n",
              "      <td>NaN</td>\n",
              "      <td>5</td>\n",
              "      <td>may</td>\n",
              "      <td>145</td>\n",
              "      <td>1</td>\n",
              "      <td>-1</td>\n",
              "      <td>0</td>\n",
              "      <td>NaN</td>\n",
              "      <td>no</td>\n",
              "    </tr>\n",
              "  </tbody>\n",
              "</table>\n",
              "</div>"
            ],
            "text/plain": [
              "   age          job  marital  education  ... pdays  previous poutcome   y\n",
              "0   58   management  married   tertiary  ...    -1         0      NaN  no\n",
              "1   36   technician   single  secondary  ...    -1         0      NaN  no\n",
              "2   25  blue-collar  married  secondary  ...    -1         0      NaN  no\n",
              "3   53   technician  married  secondary  ...    -1         0      NaN  no\n",
              "4   24   technician   single  secondary  ...    -1         0      NaN  no\n",
              "\n",
              "[5 rows x 17 columns]"
            ]
          },
          "metadata": {
            "tags": []
          },
          "execution_count": 1
        }
      ]
    },
    {
      "cell_type": "code",
      "metadata": {
        "colab": {
          "base_uri": "https://localhost:8080/",
          "height": 362
        },
        "id": "GnA-6PBWYoWE",
        "outputId": "ba08950b-649a-4b40-a136-e1da79abbb9b"
      },
      "source": [
        "# 연습문제1\n",
        "# 마지막에서 10행전까지 표시\n",
        "bank_df.tail(10)"
      ],
      "execution_count": null,
      "outputs": [
        {
          "output_type": "execute_result",
          "data": {
            "text/html": [
              "<div>\n",
              "<style scoped>\n",
              "    .dataframe tbody tr th:only-of-type {\n",
              "        vertical-align: middle;\n",
              "    }\n",
              "\n",
              "    .dataframe tbody tr th {\n",
              "        vertical-align: top;\n",
              "    }\n",
              "\n",
              "    .dataframe thead th {\n",
              "        text-align: right;\n",
              "    }\n",
              "</style>\n",
              "<table border=\"1\" class=\"dataframe\">\n",
              "  <thead>\n",
              "    <tr style=\"text-align: right;\">\n",
              "      <th></th>\n",
              "      <th>age</th>\n",
              "      <th>job</th>\n",
              "      <th>marital</th>\n",
              "      <th>education</th>\n",
              "      <th>default</th>\n",
              "      <th>balance</th>\n",
              "      <th>housing</th>\n",
              "      <th>loan</th>\n",
              "      <th>contact</th>\n",
              "      <th>day</th>\n",
              "      <th>month</th>\n",
              "      <th>duration</th>\n",
              "      <th>campaign</th>\n",
              "      <th>pdays</th>\n",
              "      <th>previous</th>\n",
              "      <th>poutcome</th>\n",
              "      <th>y</th>\n",
              "    </tr>\n",
              "  </thead>\n",
              "  <tbody>\n",
              "    <tr>\n",
              "      <th>7224</th>\n",
              "      <td>63</td>\n",
              "      <td>retired</td>\n",
              "      <td>married</td>\n",
              "      <td>primary</td>\n",
              "      <td>no</td>\n",
              "      <td>3738</td>\n",
              "      <td>no</td>\n",
              "      <td>no</td>\n",
              "      <td>telephone</td>\n",
              "      <td>9</td>\n",
              "      <td>nov</td>\n",
              "      <td>301</td>\n",
              "      <td>1</td>\n",
              "      <td>456</td>\n",
              "      <td>4</td>\n",
              "      <td>failure</td>\n",
              "      <td>no</td>\n",
              "    </tr>\n",
              "    <tr>\n",
              "      <th>7225</th>\n",
              "      <td>29</td>\n",
              "      <td>admin.</td>\n",
              "      <td>single</td>\n",
              "      <td>secondary</td>\n",
              "      <td>no</td>\n",
              "      <td>464</td>\n",
              "      <td>no</td>\n",
              "      <td>no</td>\n",
              "      <td>cellular</td>\n",
              "      <td>9</td>\n",
              "      <td>nov</td>\n",
              "      <td>208</td>\n",
              "      <td>2</td>\n",
              "      <td>91</td>\n",
              "      <td>3</td>\n",
              "      <td>success</td>\n",
              "      <td>yes</td>\n",
              "    </tr>\n",
              "    <tr>\n",
              "      <th>7226</th>\n",
              "      <td>33</td>\n",
              "      <td>admin.</td>\n",
              "      <td>single</td>\n",
              "      <td>secondary</td>\n",
              "      <td>no</td>\n",
              "      <td>690</td>\n",
              "      <td>no</td>\n",
              "      <td>no</td>\n",
              "      <td>cellular</td>\n",
              "      <td>10</td>\n",
              "      <td>nov</td>\n",
              "      <td>223</td>\n",
              "      <td>3</td>\n",
              "      <td>555</td>\n",
              "      <td>16</td>\n",
              "      <td>failure</td>\n",
              "      <td>no</td>\n",
              "    </tr>\n",
              "    <tr>\n",
              "      <th>7227</th>\n",
              "      <td>36</td>\n",
              "      <td>admin.</td>\n",
              "      <td>single</td>\n",
              "      <td>tertiary</td>\n",
              "      <td>no</td>\n",
              "      <td>980</td>\n",
              "      <td>no</td>\n",
              "      <td>no</td>\n",
              "      <td>cellular</td>\n",
              "      <td>11</td>\n",
              "      <td>nov</td>\n",
              "      <td>118</td>\n",
              "      <td>4</td>\n",
              "      <td>104</td>\n",
              "      <td>7</td>\n",
              "      <td>failure</td>\n",
              "      <td>no</td>\n",
              "    </tr>\n",
              "    <tr>\n",
              "      <th>7228</th>\n",
              "      <td>38</td>\n",
              "      <td>entrepreneur</td>\n",
              "      <td>single</td>\n",
              "      <td>secondary</td>\n",
              "      <td>no</td>\n",
              "      <td>2543</td>\n",
              "      <td>no</td>\n",
              "      <td>no</td>\n",
              "      <td>cellular</td>\n",
              "      <td>11</td>\n",
              "      <td>nov</td>\n",
              "      <td>357</td>\n",
              "      <td>3</td>\n",
              "      <td>93</td>\n",
              "      <td>5</td>\n",
              "      <td>success</td>\n",
              "      <td>yes</td>\n",
              "    </tr>\n",
              "    <tr>\n",
              "      <th>7229</th>\n",
              "      <td>25</td>\n",
              "      <td>services</td>\n",
              "      <td>single</td>\n",
              "      <td>secondary</td>\n",
              "      <td>no</td>\n",
              "      <td>199</td>\n",
              "      <td>no</td>\n",
              "      <td>no</td>\n",
              "      <td>cellular</td>\n",
              "      <td>16</td>\n",
              "      <td>nov</td>\n",
              "      <td>173</td>\n",
              "      <td>1</td>\n",
              "      <td>92</td>\n",
              "      <td>5</td>\n",
              "      <td>failure</td>\n",
              "      <td>no</td>\n",
              "    </tr>\n",
              "    <tr>\n",
              "      <th>7230</th>\n",
              "      <td>28</td>\n",
              "      <td>self-employed</td>\n",
              "      <td>single</td>\n",
              "      <td>tertiary</td>\n",
              "      <td>no</td>\n",
              "      <td>159</td>\n",
              "      <td>no</td>\n",
              "      <td>no</td>\n",
              "      <td>cellular</td>\n",
              "      <td>16</td>\n",
              "      <td>nov</td>\n",
              "      <td>449</td>\n",
              "      <td>2</td>\n",
              "      <td>33</td>\n",
              "      <td>4</td>\n",
              "      <td>success</td>\n",
              "      <td>yes</td>\n",
              "    </tr>\n",
              "    <tr>\n",
              "      <th>7231</th>\n",
              "      <td>59</td>\n",
              "      <td>management</td>\n",
              "      <td>married</td>\n",
              "      <td>tertiary</td>\n",
              "      <td>no</td>\n",
              "      <td>138</td>\n",
              "      <td>yes</td>\n",
              "      <td>yes</td>\n",
              "      <td>cellular</td>\n",
              "      <td>16</td>\n",
              "      <td>nov</td>\n",
              "      <td>162</td>\n",
              "      <td>2</td>\n",
              "      <td>187</td>\n",
              "      <td>5</td>\n",
              "      <td>failure</td>\n",
              "      <td>no</td>\n",
              "    </tr>\n",
              "    <tr>\n",
              "      <th>7232</th>\n",
              "      <td>37</td>\n",
              "      <td>management</td>\n",
              "      <td>married</td>\n",
              "      <td>tertiary</td>\n",
              "      <td>no</td>\n",
              "      <td>1428</td>\n",
              "      <td>no</td>\n",
              "      <td>no</td>\n",
              "      <td>cellular</td>\n",
              "      <td>16</td>\n",
              "      <td>nov</td>\n",
              "      <td>333</td>\n",
              "      <td>2</td>\n",
              "      <td>-1</td>\n",
              "      <td>0</td>\n",
              "      <td>NaN</td>\n",
              "      <td>no</td>\n",
              "    </tr>\n",
              "    <tr>\n",
              "      <th>7233</th>\n",
              "      <td>25</td>\n",
              "      <td>technician</td>\n",
              "      <td>single</td>\n",
              "      <td>secondary</td>\n",
              "      <td>no</td>\n",
              "      <td>505</td>\n",
              "      <td>no</td>\n",
              "      <td>yes</td>\n",
              "      <td>cellular</td>\n",
              "      <td>17</td>\n",
              "      <td>nov</td>\n",
              "      <td>386</td>\n",
              "      <td>2</td>\n",
              "      <td>-1</td>\n",
              "      <td>0</td>\n",
              "      <td>NaN</td>\n",
              "      <td>yes</td>\n",
              "    </tr>\n",
              "  </tbody>\n",
              "</table>\n",
              "</div>"
            ],
            "text/plain": [
              "      age            job  marital  education  ... pdays  previous poutcome    y\n",
              "7224   63        retired  married    primary  ...   456         4  failure   no\n",
              "7225   29         admin.   single  secondary  ...    91         3  success  yes\n",
              "7226   33         admin.   single  secondary  ...   555        16  failure   no\n",
              "7227   36         admin.   single   tertiary  ...   104         7  failure   no\n",
              "7228   38   entrepreneur   single  secondary  ...    93         5  success  yes\n",
              "7229   25       services   single  secondary  ...    92         5  failure   no\n",
              "7230   28  self-employed   single   tertiary  ...    33         4  success  yes\n",
              "7231   59     management  married   tertiary  ...   187         5  failure   no\n",
              "7232   37     management  married   tertiary  ...    -1         0      NaN   no\n",
              "7233   25     technician   single  secondary  ...    -1         0      NaN  yes\n",
              "\n",
              "[10 rows x 17 columns]"
            ]
          },
          "metadata": {
            "tags": []
          },
          "execution_count": 2
        }
      ]
    },
    {
      "cell_type": "code",
      "metadata": {
        "colab": {
          "base_uri": "https://localhost:8080/"
        },
        "id": "y1Iz_YnTYoWF",
        "outputId": "459f3464-8e74-44b6-a6f4-9918b2747604"
      },
      "source": [
        "# 데이터의 행수, 열수를 확인\n",
        "print(bank_df.shape)"
      ],
      "execution_count": null,
      "outputs": [
        {
          "output_type": "stream",
          "text": [
            "(7234, 17)\n"
          ],
          "name": "stdout"
        }
      ]
    },
    {
      "cell_type": "code",
      "metadata": {
        "colab": {
          "base_uri": "https://localhost:8080/"
        },
        "id": "-Se1yeboYoWG",
        "outputId": "8954ab59-1b98-4a2d-9ff6-22cd53f95d31"
      },
      "source": [
        "# 데이터 형을 확인\n",
        "print(bank_df.dtypes)"
      ],
      "execution_count": null,
      "outputs": [
        {
          "output_type": "stream",
          "text": [
            "age           int64\n",
            "job          object\n",
            "marital      object\n",
            "education    object\n",
            "default      object\n",
            "balance       int64\n",
            "housing      object\n",
            "loan         object\n",
            "contact      object\n",
            "day           int64\n",
            "month        object\n",
            "duration      int64\n",
            "campaign      int64\n",
            "pdays         int64\n",
            "previous      int64\n",
            "poutcome     object\n",
            "y            object\n",
            "dtype: object\n"
          ],
          "name": "stdout"
        }
      ]
    },
    {
      "cell_type": "markdown",
      "metadata": {
        "id": "1TzplZbEYoWH"
      },
      "source": [
        "### 결손값의 확인"
      ]
    },
    {
      "cell_type": "code",
      "metadata": {
        "colab": {
          "base_uri": "https://localhost:8080/"
        },
        "id": "dIRXxDwcYoWH",
        "outputId": "7dbc966f-bb62-4f57-95ca-6b666041d9b7"
      },
      "source": [
        "# 데이터행에 결손값이 포함되어 있는가?\n",
        "print(bank_df.isnull().any(axis=1))\n",
        "\n",
        "# 데이터열에 결소값이 포함되어 있는가?\n",
        "print(bank_df.isnull().any(axis=0))"
      ],
      "execution_count": null,
      "outputs": [
        {
          "output_type": "stream",
          "text": [
            "0        True\n",
            "1        True\n",
            "2        True\n",
            "3        True\n",
            "4        True\n",
            "        ...  \n",
            "7229    False\n",
            "7230    False\n",
            "7231    False\n",
            "7232     True\n",
            "7233     True\n",
            "Length: 7234, dtype: bool\n",
            "age          False\n",
            "job           True\n",
            "marital      False\n",
            "education     True\n",
            "default      False\n",
            "balance      False\n",
            "housing      False\n",
            "loan         False\n",
            "contact       True\n",
            "day          False\n",
            "month        False\n",
            "duration     False\n",
            "campaign     False\n",
            "pdays        False\n",
            "previous     False\n",
            "poutcome      True\n",
            "y            False\n",
            "dtype: bool\n"
          ],
          "name": "stdout"
        }
      ]
    },
    {
      "cell_type": "code",
      "metadata": {
        "colab": {
          "base_uri": "https://localhost:8080/"
        },
        "id": "6rktYepSYoWI",
        "outputId": "6bcc7186-a885-4b69-ab72-f75d38b9429a"
      },
      "source": [
        "# 데이터행별 결손값의 갯수\n",
        "print(bank_df.isnull().sum(axis=1))\n",
        "\n",
        "# 데이터열별 결손값의 갯수\n",
        "print(bank_df.isnull().sum(axis=0))"
      ],
      "execution_count": null,
      "outputs": [
        {
          "output_type": "stream",
          "text": [
            "0       2\n",
            "1       2\n",
            "2       2\n",
            "3       2\n",
            "4       2\n",
            "       ..\n",
            "7229    0\n",
            "7230    0\n",
            "7231    0\n",
            "7232    1\n",
            "7233    1\n",
            "Length: 7234, dtype: int64\n",
            "age             0\n",
            "job            44\n",
            "marital         0\n",
            "education     273\n",
            "default         0\n",
            "balance         0\n",
            "housing         0\n",
            "loan            0\n",
            "contact      2038\n",
            "day             0\n",
            "month           0\n",
            "duration        0\n",
            "campaign        0\n",
            "pdays           0\n",
            "previous        0\n",
            "poutcome     5900\n",
            "y               0\n",
            "dtype: int64\n"
          ],
          "name": "stdout"
        }
      ]
    },
    {
      "cell_type": "code",
      "metadata": {
        "colab": {
          "base_uri": "https://localhost:8080/"
        },
        "id": "Y4zB4iPHYoWI",
        "outputId": "12f86cf9-f393-4e79-e95d-4b188604381e"
      },
      "source": [
        "# 연습문제2\n",
        "# 데이터행별 결손값의 갯수\n",
        "print(bank_df.isnull().sum(axis=1).sort_values(ascending=False))"
      ],
      "execution_count": null,
      "outputs": [
        {
          "output_type": "stream",
          "text": [
            "1837    4\n",
            "1629    4\n",
            "139     4\n",
            "1814    4\n",
            "1670    4\n",
            "       ..\n",
            "5919    0\n",
            "5918    0\n",
            "5917    0\n",
            "5916    0\n",
            "5379    0\n",
            "Length: 7234, dtype: int64\n"
          ],
          "name": "stdout"
        }
      ]
    },
    {
      "cell_type": "markdown",
      "metadata": {
        "id": "Fc2h8b4fYoWJ"
      },
      "source": [
        "### 통계량의 계산"
      ]
    },
    {
      "cell_type": "code",
      "metadata": {
        "colab": {
          "base_uri": "https://localhost:8080/",
          "height": 299
        },
        "id": "CSLesuv0YoWJ",
        "outputId": "7a145bf9-7186-4669-d0e2-083bee125c5f"
      },
      "source": [
        "# 데이터형이 수치인 각종 통계량의 계산\n",
        "bank_df.describe()"
      ],
      "execution_count": null,
      "outputs": [
        {
          "output_type": "execute_result",
          "data": {
            "text/html": [
              "<div>\n",
              "<style scoped>\n",
              "    .dataframe tbody tr th:only-of-type {\n",
              "        vertical-align: middle;\n",
              "    }\n",
              "\n",
              "    .dataframe tbody tr th {\n",
              "        vertical-align: top;\n",
              "    }\n",
              "\n",
              "    .dataframe thead th {\n",
              "        text-align: right;\n",
              "    }\n",
              "</style>\n",
              "<table border=\"1\" class=\"dataframe\">\n",
              "  <thead>\n",
              "    <tr style=\"text-align: right;\">\n",
              "      <th></th>\n",
              "      <th>age</th>\n",
              "      <th>balance</th>\n",
              "      <th>day</th>\n",
              "      <th>duration</th>\n",
              "      <th>campaign</th>\n",
              "      <th>pdays</th>\n",
              "      <th>previous</th>\n",
              "    </tr>\n",
              "  </thead>\n",
              "  <tbody>\n",
              "    <tr>\n",
              "      <th>count</th>\n",
              "      <td>7234.000000</td>\n",
              "      <td>7234.000000</td>\n",
              "      <td>7234.000000</td>\n",
              "      <td>7234.000000</td>\n",
              "      <td>7234.000000</td>\n",
              "      <td>7234.000000</td>\n",
              "      <td>7234.000000</td>\n",
              "    </tr>\n",
              "    <tr>\n",
              "      <th>mean</th>\n",
              "      <td>40.834808</td>\n",
              "      <td>1374.912911</td>\n",
              "      <td>15.623860</td>\n",
              "      <td>262.875311</td>\n",
              "      <td>2.713989</td>\n",
              "      <td>40.277716</td>\n",
              "      <td>0.565939</td>\n",
              "    </tr>\n",
              "    <tr>\n",
              "      <th>std</th>\n",
              "      <td>10.706442</td>\n",
              "      <td>3033.882933</td>\n",
              "      <td>8.307826</td>\n",
              "      <td>268.921065</td>\n",
              "      <td>2.983740</td>\n",
              "      <td>99.188008</td>\n",
              "      <td>1.825100</td>\n",
              "    </tr>\n",
              "    <tr>\n",
              "      <th>min</th>\n",
              "      <td>2.000000</td>\n",
              "      <td>-3313.000000</td>\n",
              "      <td>1.000000</td>\n",
              "      <td>0.000000</td>\n",
              "      <td>1.000000</td>\n",
              "      <td>-1.000000</td>\n",
              "      <td>0.000000</td>\n",
              "    </tr>\n",
              "    <tr>\n",
              "      <th>25%</th>\n",
              "      <td>33.000000</td>\n",
              "      <td>74.000000</td>\n",
              "      <td>8.000000</td>\n",
              "      <td>103.000000</td>\n",
              "      <td>1.000000</td>\n",
              "      <td>-1.000000</td>\n",
              "      <td>0.000000</td>\n",
              "    </tr>\n",
              "    <tr>\n",
              "      <th>50%</th>\n",
              "      <td>39.000000</td>\n",
              "      <td>453.500000</td>\n",
              "      <td>16.000000</td>\n",
              "      <td>183.000000</td>\n",
              "      <td>2.000000</td>\n",
              "      <td>-1.000000</td>\n",
              "      <td>0.000000</td>\n",
              "    </tr>\n",
              "    <tr>\n",
              "      <th>75%</th>\n",
              "      <td>48.000000</td>\n",
              "      <td>1470.750000</td>\n",
              "      <td>21.000000</td>\n",
              "      <td>321.750000</td>\n",
              "      <td>3.000000</td>\n",
              "      <td>-1.000000</td>\n",
              "      <td>0.000000</td>\n",
              "    </tr>\n",
              "    <tr>\n",
              "      <th>max</th>\n",
              "      <td>157.000000</td>\n",
              "      <td>81204.000000</td>\n",
              "      <td>31.000000</td>\n",
              "      <td>3366.000000</td>\n",
              "      <td>44.000000</td>\n",
              "      <td>850.000000</td>\n",
              "      <td>40.000000</td>\n",
              "    </tr>\n",
              "  </tbody>\n",
              "</table>\n",
              "</div>"
            ],
            "text/plain": [
              "               age       balance  ...        pdays     previous\n",
              "count  7234.000000   7234.000000  ...  7234.000000  7234.000000\n",
              "mean     40.834808   1374.912911  ...    40.277716     0.565939\n",
              "std      10.706442   3033.882933  ...    99.188008     1.825100\n",
              "min       2.000000  -3313.000000  ...    -1.000000     0.000000\n",
              "25%      33.000000     74.000000  ...    -1.000000     0.000000\n",
              "50%      39.000000    453.500000  ...    -1.000000     0.000000\n",
              "75%      48.000000   1470.750000  ...    -1.000000     0.000000\n",
              "max     157.000000  81204.000000  ...   850.000000    40.000000\n",
              "\n",
              "[8 rows x 7 columns]"
            ]
          },
          "metadata": {
            "tags": []
          },
          "execution_count": 8
        }
      ]
    },
    {
      "cell_type": "code",
      "metadata": {
        "colab": {
          "base_uri": "https://localhost:8080/",
          "height": 175
        },
        "id": "MaE_SCQcYoWJ",
        "outputId": "7db123d5-4da5-44ac-dcd0-15b0b4c6f159"
      },
      "source": [
        "# 연습문제3\n",
        "# 데이터형이 문자열인 각종 통계량의 계산\n",
        "bank_df.describe(include=[object])"
      ],
      "execution_count": null,
      "outputs": [
        {
          "output_type": "execute_result",
          "data": {
            "text/html": [
              "<div>\n",
              "<style scoped>\n",
              "    .dataframe tbody tr th:only-of-type {\n",
              "        vertical-align: middle;\n",
              "    }\n",
              "\n",
              "    .dataframe tbody tr th {\n",
              "        vertical-align: top;\n",
              "    }\n",
              "\n",
              "    .dataframe thead th {\n",
              "        text-align: right;\n",
              "    }\n",
              "</style>\n",
              "<table border=\"1\" class=\"dataframe\">\n",
              "  <thead>\n",
              "    <tr style=\"text-align: right;\">\n",
              "      <th></th>\n",
              "      <th>job</th>\n",
              "      <th>marital</th>\n",
              "      <th>education</th>\n",
              "      <th>default</th>\n",
              "      <th>housing</th>\n",
              "      <th>loan</th>\n",
              "      <th>contact</th>\n",
              "      <th>month</th>\n",
              "      <th>poutcome</th>\n",
              "      <th>y</th>\n",
              "    </tr>\n",
              "  </thead>\n",
              "  <tbody>\n",
              "    <tr>\n",
              "      <th>count</th>\n",
              "      <td>7190</td>\n",
              "      <td>7234</td>\n",
              "      <td>6961</td>\n",
              "      <td>7234</td>\n",
              "      <td>7234</td>\n",
              "      <td>7234</td>\n",
              "      <td>5196</td>\n",
              "      <td>7234</td>\n",
              "      <td>1334</td>\n",
              "      <td>7234</td>\n",
              "    </tr>\n",
              "    <tr>\n",
              "      <th>unique</th>\n",
              "      <td>11</td>\n",
              "      <td>3</td>\n",
              "      <td>3</td>\n",
              "      <td>2</td>\n",
              "      <td>2</td>\n",
              "      <td>2</td>\n",
              "      <td>2</td>\n",
              "      <td>12</td>\n",
              "      <td>3</td>\n",
              "      <td>2</td>\n",
              "    </tr>\n",
              "    <tr>\n",
              "      <th>top</th>\n",
              "      <td>management</td>\n",
              "      <td>married</td>\n",
              "      <td>secondary</td>\n",
              "      <td>no</td>\n",
              "      <td>yes</td>\n",
              "      <td>no</td>\n",
              "      <td>cellular</td>\n",
              "      <td>may</td>\n",
              "      <td>failure</td>\n",
              "      <td>no</td>\n",
              "    </tr>\n",
              "    <tr>\n",
              "      <th>freq</th>\n",
              "      <td>1560</td>\n",
              "      <td>4343</td>\n",
              "      <td>3745</td>\n",
              "      <td>7101</td>\n",
              "      <td>4058</td>\n",
              "      <td>6066</td>\n",
              "      <td>4697</td>\n",
              "      <td>2202</td>\n",
              "      <td>772</td>\n",
              "      <td>6381</td>\n",
              "    </tr>\n",
              "  </tbody>\n",
              "</table>\n",
              "</div>"
            ],
            "text/plain": [
              "               job  marital  education default  ...   contact month poutcome     y\n",
              "count         7190     7234       6961    7234  ...      5196  7234     1334  7234\n",
              "unique          11        3          3       2  ...         2    12        3     2\n",
              "top     management  married  secondary      no  ...  cellular   may  failure    no\n",
              "freq          1560     4343       3745    7101  ...      4697  2202      772  6381\n",
              "\n",
              "[4 rows x 10 columns]"
            ]
          },
          "metadata": {
            "tags": []
          },
          "execution_count": 9
        }
      ]
    },
    {
      "cell_type": "markdown",
      "metadata": {
        "id": "Ww9eRoPdYoWK"
      },
      "source": [
        "### 데이터의 가시화１"
      ]
    },
    {
      "cell_type": "code",
      "metadata": {
        "colab": {
          "base_uri": "https://localhost:8080/",
          "height": 279
        },
        "id": "w6wikT7OYoWK",
        "outputId": "826791d6-82ba-4db3-f258-c2f8b1874048"
      },
      "source": [
        "# Matplotlib의 로드\n",
        "import matplotlib.pyplot as plt\n",
        "%matplotlib inline\n",
        "\n",
        "# age의 히스토그램을 작성\n",
        "plt.hist(bank_df['age'])\n",
        "# x축(횡축)과 y축（종축）의 레이블을 추가\n",
        "plt.xlabel('age')\n",
        "plt.ylabel('freq')\n",
        "plt.show()"
      ],
      "execution_count": null,
      "outputs": [
        {
          "output_type": "display_data",
          "data": {
            "image/png": "[encoded data removed]",
            "text/plain": [
              "<Figure size 432x288 with 1 Axes>"
            ]
          },
          "metadata": {
            "tags": [],
            "needs_background": "light"
          }
        }
      ]
    },
    {
      "cell_type": "code",
      "metadata": {
        "colab": {
          "base_uri": "https://localhost:8080/",
          "height": 279
        },
        "id": "1yV1oAjgYoWK",
        "outputId": "34368cc4-7b8c-4c53-ee4c-34d5c2940efd"
      },
      "source": [
        "# 연습문제4\n",
        "# balance의 히스토그램\n",
        "plt.hist(bank_df['balance'])\n",
        "# x축(횡축)과 y축（종축）의 레이블을 추가\n",
        "plt.xlabel('balance')\n",
        "plt.ylabel('freq')\n",
        "plt.show()"
      ],
      "execution_count": null,
      "outputs": [
        {
          "output_type": "display_data",
          "data": {
            "image/png": "[encoded data removed]",
            "text/plain": [
              "<Figure size 432x288 with 1 Axes>"
            ]
          },
          "metadata": {
            "tags": [],
            "needs_background": "light"
          }
        }
      ]
    },
    {
      "cell_type": "code",
      "metadata": {
        "colab": {
          "base_uri": "https://localhost:8080/",
          "height": 331
        },
        "id": "fKlMTA7-YoWK",
        "outputId": "cc6fa7d5-16f5-45ce-9ee6-2ea1809a3449"
      },
      "source": [
        "# age와 balance의 산포도를 작성\n",
        "plt.scatter(bank_df['age'], bank_df['balance'])\n",
        "# x축(횡축)과 y축（종축）의 레이블을 추가\n",
        "plt.xlabel('age')\n",
        "plt.ylabel('balance')\n",
        "plt.show()\n",
        "\n",
        "# age와 balance의 상관계수\n",
        "print(bank_df[['age', 'balance']].corr())"
      ],
      "execution_count": null,
      "outputs": [
        {
          "output_type": "display_data",
          "data": {
            "image/png": "[encoded data removed]",
            "text/plain": [
              "<Figure size 432x288 with 1 Axes>"
            ]
          },
          "metadata": {
            "tags": [],
            "needs_background": "light"
          }
        },
        {
          "output_type": "stream",
          "text": [
            "              age   balance\n",
            "age      1.000000  0.112364\n",
            "balance  0.112364  1.000000\n"
          ],
          "name": "stdout"
        }
      ]
    },
    {
      "cell_type": "code",
      "metadata": {
        "colab": {
          "base_uri": "https://localhost:8080/",
          "height": 297
        },
        "id": "WETUkzpMYoWL",
        "outputId": "c6991de1-d431-4a89-897a-ba05c8a9946b"
      },
      "source": [
        "# 연습문제5\n",
        "# 산포도행렬의 작성\n",
        "pd.plotting.scatter_matrix(bank_df[['age','balance','day','duration']])\n",
        "plt.tight_layout()\n",
        "plt.show()"
      ],
      "execution_count": null,
      "outputs": [
        {
          "output_type": "display_data",
          "data": {
            "image/png": "[encoded data removed]",
            "text/plain": [
              "<Figure size 432x288 with 16 Axes>"
            ]
          },
          "metadata": {
            "tags": [],
            "needs_background": "light"
          }
        }
      ]
    },
    {
      "cell_type": "code",
      "metadata": {
        "colab": {
          "base_uri": "https://localhost:8080/"
        },
        "id": "Eq3hdzC1YoWL",
        "outputId": "3603ce26-6cf9-4baa-e6ea-b5ff6d170a45"
      },
      "source": [
        "# job값의 비율을 계산\n",
        "print(bank_df['job'].value_counts(ascending=False, normalize=True))"
      ],
      "execution_count": null,
      "outputs": [
        {
          "output_type": "stream",
          "text": [
            "management       0.216968\n",
            "blue-collar      0.208484\n",
            "technician       0.167733\n",
            "admin.           0.115994\n",
            "services         0.091933\n",
            "retired          0.048818\n",
            "self-employed    0.035605\n",
            "entrepreneur     0.033241\n",
            "unemployed       0.031015\n",
            "housemaid        0.028929\n",
            "student          0.021280\n",
            "Name: job, dtype: float64\n"
          ],
          "name": "stdout"
        }
      ]
    },
    {
      "cell_type": "code",
      "metadata": {
        "colab": {
          "base_uri": "https://localhost:8080/",
          "height": 253
        },
        "id": "avEWV4lRYoWL",
        "outputId": "b623c1bf-3a0f-4cd9-b489-f1805e54839b"
      },
      "source": [
        "# job값의 레이블\n",
        "job_label = bank_df['job'].value_counts(ascending=False, normalize=True).index\n",
        "# job의 값\n",
        "job_vals = bank_df['job'].value_counts(ascending=False, normalize=True).values\n",
        "\n",
        "# job의 원그래프를 작성\n",
        "plt.pie(job_vals, labels=job_label)\n",
        "plt.axis('equal')\n",
        "plt.show()"
      ],
      "execution_count": null,
      "outputs": [
        {
          "output_type": "display_data",
          "data": {
            "image/png": "[encoded data removed]",
            "text/plain": [
              "<Figure size 432x288 with 1 Axes>"
            ]
          },
          "metadata": {
            "tags": []
          }
        }
      ]
    },
    {
      "cell_type": "code",
      "metadata": {
        "colab": {
          "base_uri": "https://localhost:8080/",
          "height": 322
        },
        "id": "n3fbS1RWYoWM",
        "outputId": "f9c2abbb-3484-4fe0-9702-44a8faad014d"
      },
      "source": [
        "# 연습문제6\n",
        "# marital값의 비율을 계산\n",
        "print(bank_df['marital'].value_counts(ascending=False, normalize=True))\n",
        "\n",
        "# marital값의 레이블\n",
        "marital_label = bank_df['marital'].value_counts(ascending=False, normalize=True).index\n",
        "# martial의 값\n",
        "marital_vals = bank_df['marital'].value_counts(ascending=False, normalize=True).values\n",
        "\n",
        "# marital의 원 그래프를 작성\n",
        "plt.pie(marital_vals, labels=marital_label)\n",
        "plt.axis('equal')\n",
        "plt.show()"
      ],
      "execution_count": null,
      "outputs": [
        {
          "output_type": "stream",
          "text": [
            "married     0.600359\n",
            "single      0.284766\n",
            "divorced    0.114874\n",
            "Name: marital, dtype: float64\n"
          ],
          "name": "stdout"
        },
        {
          "output_type": "display_data",
          "data": {
            "image/png": "[encoded data removed]",
            "text/plain": [
              "<Figure size 432x288 with 1 Axes>"
            ]
          },
          "metadata": {
            "tags": []
          }
        }
      ]
    },
    {
      "cell_type": "code",
      "metadata": {
        "colab": {
          "base_uri": "https://localhost:8080/",
          "height": 248
        },
        "id": "BLv7nvDaYoWM",
        "outputId": "444e98a3-447e-46b8-d6fe-2f6fb1205784"
      },
      "source": [
        "# y값의 레이블\n",
        "y_label = bank_df['y'].value_counts(ascending=False, normalize=True).index\n",
        "# y의 값\n",
        "y_vals = bank_df['y'].value_counts(ascending=False, normalize=True).values\n",
        "\n",
        "# y의 원 그래프를 작성\n",
        "plt.pie(y_vals, labels=y_label)\n",
        "plt.axis('equal')\n",
        "plt.show()"
      ],
      "execution_count": null,
      "outputs": [
        {
          "output_type": "display_data",
          "data": {
            "image/png": "[encoded data removed]",
            "text/plain": [
              "<Figure size 432x288 with 1 Axes>"
            ]
          },
          "metadata": {
            "tags": []
          }
        }
      ]
    },
    {
      "cell_type": "markdown",
      "metadata": {
        "id": "125EGE-rYoWN"
      },
      "source": [
        "### 데이터의 가시화2"
      ]
    },
    {
      "cell_type": "code",
      "metadata": {
        "colab": {
          "base_uri": "https://localhost:8080/",
          "height": 334
        },
        "id": "SGFwNykjYoWN",
        "outputId": "e89ae0be-de58-4abb-97e0-384953eb7ee1"
      },
      "source": [
        "# y가 yes나 no일때의 age데이터를 추출\n",
        "y_yes = bank_df[bank_df['y'] == 'yes']\n",
        "y_no = bank_df[bank_df['y'] == 'no']\n",
        "# yes와 no의 데이터를 정리\n",
        "y_age = [y_yes['age'], y_no['age']]\n",
        "\n",
        "# 박스수염 플롯의 작성\n",
        "plt.boxplot(y_age)\n",
        "# x축(횡축)과 y축（종축）의 레이블을 추가\n",
        "plt.xlabel('y')\n",
        "plt.ylabel('age')\n",
        "ax = plt.gca()\n",
        "# y축 （종축）의 레이블을 추가\n",
        "plt.setp(ax, xticklabels = ['yes','no'])\n",
        "plt.show()"
      ],
      "execution_count": null,
      "outputs": [
        {
          "output_type": "stream",
          "text": [
            "/usr/local/lib/python3.7/dist-packages/numpy/core/_asarray.py:83: VisibleDeprecationWarning: Creating an ndarray from ragged nested sequences (which is a list-or-tuple of lists-or-tuples-or ndarrays with different lengths or shapes) is deprecated. If you meant to do this, you must specify 'dtype=object' when creating the ndarray\n",
            "  return array(a, dtype, copy=False, order=order)\n"
          ],
          "name": "stderr"
        },
        {
          "output_type": "display_data",
          "data": {
            "image/png": "[encoded data removed]",
            "text/plain": [
              "<Figure size 432x288 with 1 Axes>"
            ]
          },
          "metadata": {
            "tags": [],
            "needs_background": "light"
          }
        }
      ]
    },
    {
      "cell_type": "code",
      "metadata": {
        "colab": {
          "base_uri": "https://localhost:8080/",
          "height": 334
        },
        "id": "VHs5XCQeYoWN",
        "outputId": "23c5a187-a128-4764-8798-a4972ab0e6b8"
      },
      "source": [
        "# 연습문제7\n",
        "# yes와 no의 데이터를 정리\n",
        "y_balance = [y_yes['balance'], y_no['balance']]\n",
        "\n",
        "# 박스수염 플롯의 작성\n",
        "plt.boxplot(y_balance)\n",
        "# x축(횡축)과 y축（종축）의 레이블을 추가\n",
        "plt.xlabel('y')\n",
        "plt.ylabel('balance')\n",
        "ax = plt.gca()\n",
        "# y축（종축）의 레이블을 추가\n",
        "plt.setp(ax, xticklabels = ['yes','no'])\n",
        "plt.show()"
      ],
      "execution_count": null,
      "outputs": [
        {
          "output_type": "stream",
          "text": [
            "/usr/local/lib/python3.7/dist-packages/numpy/core/_asarray.py:83: VisibleDeprecationWarning: Creating an ndarray from ragged nested sequences (which is a list-or-tuple of lists-or-tuples-or ndarrays with different lengths or shapes) is deprecated. If you meant to do this, you must specify 'dtype=object' when creating the ndarray\n",
            "  return array(a, dtype, copy=False, order=order)\n"
          ],
          "name": "stderr"
        },
        {
          "output_type": "display_data",
          "data": {
            "image/png": "[encoded data removed]",
            "text/plain": [
              "<Figure size 432x288 with 1 Axes>"
            ]
          },
          "metadata": {
            "tags": [],
            "needs_background": "light"
          }
        }
      ]
    },
    {
      "cell_type": "code",
      "metadata": {
        "id": "of4wasGKYoWN"
      },
      "source": [
        ""
      ],
      "execution_count": null,
      "outputs": []
    }
  ]
}