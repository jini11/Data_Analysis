{
  "nbformat": 4,
  "nbformat_minor": 0,
  "metadata": {
    "colab": {
      "name": "QR_URL_maker_2111.ipynb",
      "provenance": [],
      "collapsed_sections": []
    },
    "kernelspec": {
      "name": "python3",
      "display_name": "Python 3"
    },
    "language_info": {
      "name": "python"
    }
  },
  "cells": [
    {
      "cell_type": "code",
      "metadata": {
        "colab": {
          "base_uri": "https://localhost:8080/"
        },
        "id": "piqwO9CJ5yaA",
        "outputId": "85399202-f484-44b8-fee8-590a5d002499"
      },
      "source": [
        "pip install pyqrcode"
      ],
      "execution_count": null,
      "outputs": [
        {
          "output_type": "stream",
          "name": "stdout",
          "text": [
            "Collecting pyqrcode\n",
            "  Downloading PyQRCode-1.2.1.zip (41 kB)\n",
            "\u001b[?25l\r\u001b[K     |███████▉                        | 10 kB 18.5 MB/s eta 0:00:01\r\u001b[K     |███████████████▋                | 20 kB 10.2 MB/s eta 0:00:01\r\u001b[K     |███████████████████████▌        | 30 kB 8.3 MB/s eta 0:00:01\r\u001b[K     |███████████████████████████████▎| 40 kB 7.5 MB/s eta 0:00:01\r\u001b[K     |████████████████████████████████| 41 kB 348 kB/s \n",
            "\u001b[?25hBuilding wheels for collected packages: pyqrcode\n",
            "  Building wheel for pyqrcode (setup.py) ... \u001b[?25l\u001b[?25hdone\n",
            "  Created wheel for pyqrcode: filename=PyQRCode-1.2.1-py3-none-any.whl size=36245 sha256=944cb9a2f8e05f4cc0d5d936ce15ee85991bfbb8e401d35bf866eaa8eb2b6122\n",
            "  Stored in directory: /root/.cache/pip/wheels/aa/14/ad/f09824edf35fdc5fd8acc01b60ff57f858f212a2d5c41dddd2\n",
            "Successfully built pyqrcode\n",
            "Installing collected packages: pyqrcode\n",
            "Successfully installed pyqrcode-1.2.1\n"
          ]
        }
      ]
    },
    {
      "cell_type": "code",
      "metadata": {
        "colab": {
          "base_uri": "https://localhost:8080/"
        },
        "id": "cCYpMRv66FbW",
        "outputId": "0c9fcaea-7544-4fe0-b3fe-6eabfea1bf60"
      },
      "source": [
        "pip install pypng"
      ],
      "execution_count": null,
      "outputs": [
        {
          "output_type": "stream",
          "name": "stdout",
          "text": [
            "Collecting pypng\n",
            "  Downloading pypng-0.0.21-py3-none-any.whl (48 kB)\n",
            "\u001b[?25l\r\u001b[K     |██████▉                         | 10 kB 22.2 MB/s eta 0:00:01\r\u001b[K     |█████████████▋                  | 20 kB 10.2 MB/s eta 0:00:01\r\u001b[K     |████████████████████▍           | 30 kB 8.4 MB/s eta 0:00:01\r\u001b[K     |███████████████████████████▎    | 40 kB 7.8 MB/s eta 0:00:01\r\u001b[K     |████████████████████████████████| 48 kB 2.1 MB/s \n",
            "\u001b[?25hInstalling collected packages: pypng\n",
            "Successfully installed pypng-0.0.21\n"
          ]
        }
      ]
    },
    {
      "cell_type": "code",
      "metadata": {
        "colab": {
          "base_uri": "https://localhost:8080/"
        },
        "id": "wAk6b7PP6HrW",
        "outputId": "7992bc34-9424-4fc0-9aa7-9166e9affdfd"
      },
      "source": [
        "pip install Pillow"
      ],
      "execution_count": null,
      "outputs": [
        {
          "output_type": "stream",
          "name": "stdout",
          "text": [
            "Requirement already satisfied: Pillow in /usr/local/lib/python3.7/dist-packages (7.1.2)\n"
          ]
        }
      ]
    },
    {
      "cell_type": "code",
      "metadata": {
        "colab": {
          "base_uri": "https://localhost:8080/",
          "height": 503
        },
        "id": "W4yYSr6_6Ovo",
        "outputId": "0e710230-d3eb-46c4-eb0f-62070af88607"
      },
      "source": [
        "import pyqrcode\n",
        "import png\n",
        "from PIL import Image\n",
        "\n",
        "#inserting website name\n",
        "s = input(\"Enter your website: \") \n",
        "print(s)\n",
        "url = pyqrcode.create(s)\n",
        "\n",
        "#saving image\n",
        "img = \"qr-code.png\"\n",
        "url.png(img, scale=10)\n",
        "\n",
        "#opening image\n",
        "im=Image.open(img)\n",
        "\n",
        "#show\n",
        "im"
      ],
      "execution_count": null,
      "outputs": [
        {
          "output_type": "stream",
          "name": "stdout",
          "text": [
            "Enter your website: https://www.facebook.com/makerbox2014\n",
            "https://www.facebook.com/makerbox2014\n"
          ]
        },
        {
          "output_type": "execute_result",
          "data": {
            "image/png": "[encoded data removed]",
            "text/plain": [
              "<PIL.PngImagePlugin.PngImageFile image mode=1 size=450x450 at 0x7F602C644910>"
            ]
          },
          "metadata": {},
          "execution_count": 4
        }
      ]
    }
  ]
}