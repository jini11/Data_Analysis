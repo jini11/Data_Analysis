{
  "nbformat": 4,
  "nbformat_minor": 0,
  "metadata": {
    "kernelspec": {
      "display_name": "Python 3",
      "language": "python",
      "name": "python3"
    },
    "language_info": {
      "codemirror_mode": {
        "name": "ipython",
        "version": 3
      },
      "file_extension": ".py",
      "mimetype": "text/x-python",
      "name": "python",
      "nbconvert_exporter": "python",
      "pygments_lexer": "ipython3",
      "version": "3.7.3"
    },
    "colab": {
      "name": "colab_18_RNN1_Reuters.ipynb",
      "provenance": [],
      "machine_shape": "hm"
    },
    "accelerator": "GPU"
  },
  "cells": [
    {
      "cell_type": "code",
      "metadata": {
        "id": "mjTKHIHWog5k",
        "colab": {
          "base_uri": "https://localhost:8080/",
          "height": 1000
        },
        "outputId": "d7f0672d-a60e-4693-cd0c-24655414be1f"
      },
      "source": [
        "!pip install -q tensorflow-gpu==1.15.0\n",
        "%tensorflow_version 1.x\n",
        "import tensorflow as tf\n",
        "import matplotlib.pyplot as plt\n",
        "import numpy\n",
        "import os\n",
        "\n",
        "# 로이터 뉴스 데이터셋 불러오기\n",
        "from keras.datasets import reuters\n",
        "from keras.models import Sequential\n",
        "from keras.layers import Dense, LSTM, Embedding\n",
        "from keras.preprocessing import sequence\n",
        "from keras.utils import np_utils\n",
        "\n",
        "# seed 값 설정\n",
        "seed = 0\n",
        "numpy.random.seed(seed)\n",
        "tf.compat.v1.set_random_seed(3)\n",
        "\n",
        "# 불러온 데이터를 학습셋, 테스트셋으로 나누기\n",
        "(X_train, Y_train), (X_test, Y_test) = reuters.load_data(num_words=1000, test_split=0.2)\n",
        "\n",
        "# 데이터 확인하기\n",
        "category = numpy.max(Y_train) + 1\n",
        "print(category, '카테고리')\n",
        "print(len(X_train), '학습용 뉴스 기사')\n",
        "print(len(X_test), '테스트용 뉴스 기사')\n",
        "print(X_train[0])\n",
        "\n",
        "# 데이터 전처리\n",
        "x_train = sequence.pad_sequences(X_train, maxlen=100)\n",
        "x_test = sequence.pad_sequences(X_test, maxlen=100)\n",
        "y_train = np_utils.to_categorical(Y_train)\n",
        "y_test = np_utils.to_categorical(Y_test)\n",
        "\n",
        "# 모델의 설정\n",
        "model = Sequential()\n",
        "model.add(Embedding(1000, 100))\n",
        "model.add(LSTM(100, activation='tanh'))\n",
        "model.add(Dense(46, activation='softmax'))\n",
        "\n",
        "# 모델의 컴파일\n",
        "model.compile(loss='categorical_crossentropy',\n",
        "            optimizer='adam',\n",
        "            metrics=['accuracy'])\n",
        "\n",
        "# 모델의 실행\n",
        "history = model.fit(x_train, y_train, batch_size=100, epochs=20, validation_data=(x_test, y_test))\n",
        "\n",
        "# 테스트 정확도 출력\n",
        "print(\"\\n Test Accuracy: %.4f\" % (model.evaluate(x_test, y_test)[1]))\n",
        "\n",
        "\n",
        "# 테스트 셋의 오차\n",
        "y_vloss = history.history['val_loss']\n",
        "\n",
        "# 학습셋의 오차\n",
        "y_loss = history.history['loss']\n",
        "\n",
        "# 그래프로 표현\n",
        "x_len = numpy.arange(len(y_loss))\n",
        "plt.plot(x_len, y_vloss, marker='.', c=\"red\", label='Testset_loss')\n",
        "plt.plot(x_len, y_loss, marker='.', c=\"blue\", label='Trainset_loss')\n",
        "\n",
        "# 그래프에 그리드를 주고 레이블을 표시\n",
        "plt.legend(loc='upper right')\n",
        "plt.grid()\n",
        "plt.xlabel('epoch')\n",
        "plt.ylabel('loss')\n",
        "plt.show()\n"
      ],
      "execution_count": null,
      "outputs": [
        {
          "output_type": "stream",
          "name": "stdout",
          "text": [
            "\u001b[K     |████████████████████████████████| 411.5 MB 7.1 kB/s \n",
            "\u001b[K     |████████████████████████████████| 503 kB 55.8 MB/s \n",
            "\u001b[K     |████████████████████████████████| 50 kB 8.6 MB/s \n",
            "\u001b[K     |████████████████████████████████| 3.8 MB 61.6 MB/s \n",
            "\u001b[?25h  Building wheel for gast (setup.py) ... \u001b[?25l\u001b[?25hdone\n",
            "\u001b[31mERROR: pip's dependency resolver does not currently take into account all the packages that are installed. This behaviour is the source of the following dependency conflicts.\n",
            "tensorflow 2.7.0 requires tensorboard~=2.6, but you have tensorboard 1.15.0 which is incompatible.\n",
            "tensorflow 2.7.0 requires tensorflow-estimator<2.8,~=2.7.0rc0, but you have tensorflow-estimator 1.15.1 which is incompatible.\n",
            "tensorflow-probability 0.15.0 requires gast>=0.3.2, but you have gast 0.2.2 which is incompatible.\u001b[0m\n",
            "TensorFlow 1.x selected.\n"
          ]
        },
        {
          "output_type": "stream",
          "name": "stderr",
          "text": [
            "Using TensorFlow backend.\n"
          ]
        },
        {
          "output_type": "stream",
          "name": "stdout",
          "text": [
            "Downloading data from https://s3.amazonaws.com/text-datasets/reuters.npz\n",
            "2113536/2110848 [==============================] - 1s 1us/step\n",
            "46 카테고리\n",
            "8982 학습용 뉴스 기사\n",
            "2246 테스트용 뉴스 기사\n",
            "[1, 2, 2, 8, 43, 10, 447, 5, 25, 207, 270, 5, 2, 111, 16, 369, 186, 90, 67, 7, 89, 5, 19, 102, 6, 19, 124, 15, 90, 67, 84, 22, 482, 26, 7, 48, 4, 49, 8, 864, 39, 209, 154, 6, 151, 6, 83, 11, 15, 22, 155, 11, 15, 7, 48, 9, 2, 2, 504, 6, 258, 6, 272, 11, 15, 22, 134, 44, 11, 15, 16, 8, 197, 2, 90, 67, 52, 29, 209, 30, 32, 132, 6, 109, 15, 17, 12]\n",
            "WARNING:tensorflow:From /tensorflow-1.15.2/python3.7/tensorflow_core/python/ops/resource_variable_ops.py:1630: calling BaseResourceVariable.__init__ (from tensorflow.python.ops.resource_variable_ops) with constraint is deprecated and will be removed in a future version.\n",
            "Instructions for updating:\n",
            "If using Keras pass *_constraint arguments to layers.\n"
          ]
        },
        {
          "output_type": "stream",
          "name": "stderr",
          "text": [
            "/tensorflow-1.15.2/python3.7/keras/datasets/reuters.py:85: VisibleDeprecationWarning: Creating an ndarray from ragged nested sequences (which is a list-or-tuple of lists-or-tuples-or ndarrays with different lengths or shapes) is deprecated. If you meant to do this, you must specify 'dtype=object' when creating the ndarray\n",
            "  x_train, y_train = np.array(xs[:idx]), np.array(labels[:idx])\n",
            "/tensorflow-1.15.2/python3.7/keras/datasets/reuters.py:86: VisibleDeprecationWarning: Creating an ndarray from ragged nested sequences (which is a list-or-tuple of lists-or-tuples-or ndarrays with different lengths or shapes) is deprecated. If you meant to do this, you must specify 'dtype=object' when creating the ndarray\n",
            "  x_test, y_test = np.array(xs[idx:]), np.array(labels[idx:])\n"
          ]
        },
        {
          "output_type": "stream",
          "name": "stdout",
          "text": [
            "WARNING:tensorflow:From /tensorflow-1.15.2/python3.7/keras/backend/tensorflow_backend.py:422: The name tf.global_variables is deprecated. Please use tf.compat.v1.global_variables instead.\n",
            "\n",
            "Train on 8982 samples, validate on 2246 samples\n",
            "Epoch 1/20\n",
            "8982/8982 [==============================] - 6s 666us/step - loss: 2.5409 - accuracy: 0.3742 - val_loss: 2.0279 - val_accuracy: 0.4982\n",
            "Epoch 2/20\n",
            "8982/8982 [==============================] - 5s 560us/step - loss: 1.9350 - accuracy: 0.4939 - val_loss: 1.8611 - val_accuracy: 0.5191\n",
            "Epoch 3/20\n",
            "8982/8982 [==============================] - 5s 537us/step - loss: 1.7718 - accuracy: 0.5418 - val_loss: 1.7696 - val_accuracy: 0.5485\n",
            "Epoch 4/20\n",
            "8982/8982 [==============================] - 5s 548us/step - loss: 1.8562 - accuracy: 0.4689 - val_loss: 1.7444 - val_accuracy: 0.5601\n",
            "Epoch 5/20\n",
            "8982/8982 [==============================] - 5s 539us/step - loss: 1.6574 - accuracy: 0.5737 - val_loss: 1.7168 - val_accuracy: 0.5539\n",
            "Epoch 6/20\n",
            "8982/8982 [==============================] - 5s 567us/step - loss: 1.5395 - accuracy: 0.6043 - val_loss: 1.5623 - val_accuracy: 0.5975\n",
            "Epoch 7/20\n",
            "8982/8982 [==============================] - 5s 559us/step - loss: 1.4185 - accuracy: 0.6336 - val_loss: 1.5456 - val_accuracy: 0.6033\n",
            "Epoch 8/20\n",
            "8982/8982 [==============================] - 5s 552us/step - loss: 1.3649 - accuracy: 0.6470 - val_loss: 1.4473 - val_accuracy: 0.6309\n",
            "Epoch 9/20\n",
            "8982/8982 [==============================] - 5s 557us/step - loss: 1.2526 - accuracy: 0.6776 - val_loss: 1.4065 - val_accuracy: 0.6460\n",
            "Epoch 10/20\n",
            "8982/8982 [==============================] - 5s 569us/step - loss: 1.1811 - accuracy: 0.6981 - val_loss: 1.3713 - val_accuracy: 0.6625\n",
            "Epoch 11/20\n",
            "8982/8982 [==============================] - 5s 561us/step - loss: 1.1435 - accuracy: 0.7069 - val_loss: 1.3331 - val_accuracy: 0.6634\n",
            "Epoch 12/20\n",
            "8982/8982 [==============================] - 5s 546us/step - loss: 1.0707 - accuracy: 0.7251 - val_loss: 1.2942 - val_accuracy: 0.6772\n",
            "Epoch 13/20\n",
            "8982/8982 [==============================] - 5s 548us/step - loss: 1.0344 - accuracy: 0.7329 - val_loss: 1.2534 - val_accuracy: 0.6861\n",
            "Epoch 14/20\n",
            "8982/8982 [==============================] - 5s 554us/step - loss: 1.0024 - accuracy: 0.7424 - val_loss: 1.2728 - val_accuracy: 0.6883\n",
            "Epoch 15/20\n",
            "8982/8982 [==============================] - 5s 537us/step - loss: 0.9324 - accuracy: 0.7617 - val_loss: 1.2433 - val_accuracy: 0.6959\n",
            "Epoch 16/20\n",
            "8982/8982 [==============================] - 5s 571us/step - loss: 0.9103 - accuracy: 0.7671 - val_loss: 1.2484 - val_accuracy: 0.6888\n",
            "Epoch 17/20\n",
            "8982/8982 [==============================] - 5s 573us/step - loss: 0.8493 - accuracy: 0.7835 - val_loss: 1.2096 - val_accuracy: 0.7008\n",
            "Epoch 18/20\n",
            "8982/8982 [==============================] - 5s 557us/step - loss: 0.8042 - accuracy: 0.7959 - val_loss: 1.2308 - val_accuracy: 0.6990\n",
            "Epoch 19/20\n",
            "8982/8982 [==============================] - 5s 559us/step - loss: 0.7710 - accuracy: 0.8068 - val_loss: 1.2542 - val_accuracy: 0.6959\n",
            "Epoch 20/20\n",
            "8982/8982 [==============================] - 5s 557us/step - loss: 0.7592 - accuracy: 0.8112 - val_loss: 1.2367 - val_accuracy: 0.6981\n",
            "2246/2246 [==============================] - 1s 363us/step\n",
            "\n",
            " Test Accuracy: 0.6981\n"
          ]
        },
        {
          "output_type": "display_data",
          "data": {
            "image/png": "[encoded data removed]",
            "text/plain": [
              "<Figure size 432x288 with 1 Axes>"
            ]
          },
          "metadata": {
            "needs_background": "light"
          }
        }
      ]
    },
    {
      "cell_type": "code",
      "metadata": {
        "id": "77DI2mTaog5p"
      },
      "source": [
        ""
      ],
      "execution_count": null,
      "outputs": []
    }
  ]
}