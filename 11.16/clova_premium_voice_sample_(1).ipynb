{
  "nbformat": 4,
  "nbformat_minor": 0,
  "metadata": {
    "anaconda-cloud": {},
    "kernelspec": {
      "display_name": "Python 3",
      "language": "python",
      "name": "python3"
    },
    "language_info": {
      "codemirror_mode": {
        "name": "ipython",
        "version": 3
      },
      "file_extension": ".py",
      "mimetype": "text/x-python",
      "name": "python",
      "nbconvert_exporter": "python",
      "pygments_lexer": "ipython3",
      "version": "3.6.1"
    },
    "colab": {
      "name": "clova_premium_voice_sample (1).ipynb",
      "provenance": [],
      "collapsed_sections": []
    }
  },
  "cells": [
    {
      "cell_type": "code",
      "metadata": {
        "colab": {
          "base_uri": "https://localhost:8080/"
        },
        "id": "CB-zEvGyGOrI",
        "outputId": "f40d1eb0-101c-4e29-9b56-ea6a51dc5e8a"
      },
      "source": [
        "import requests\n",
        "\n",
        "client_id = \"키 id\"\n",
        "client_secret = \"키\"\n",
        "\n",
        "text = \"매직에코에서는 천안 과정을 통해 머신러닝과 데이터 사이언스 그리고 네이버 API 활용을 학습합니다.\"\n",
        "\n",
        "speaker = \"nara\"\n",
        "speed = \"0\"\n",
        "pitch = \"0\"\n",
        "emotion = \"0\"\n",
        "format = \"mp3\"\n",
        "\n",
        "val = {\n",
        "    \"speaker\": speaker,\n",
        "    \"speed\": speed,\n",
        "    \"text\": text\n",
        "}\n",
        "\n",
        "url = \"https://naveropenapi.apigw.ntruss.com/tts-premium/v1/tts\"\n",
        "\n",
        "headers = {\n",
        "    \"X-NCP-APIGW-API-KEY-ID\": client_id,\n",
        "    \"X-NCP-APIGW-API-KEY\": client_secret,\n",
        "    \"Content-Type\": \"application/x-www-form-urlencoded\"\n",
        "}\n",
        "\n",
        "response = requests.post(url,  data=val, headers=headers)\n",
        "rescode = response.status_code\n",
        "\n",
        "if(rescode == 200):\n",
        "    print(rescode)\n",
        "    with open('cpv_sample.mp3', 'wb') as f:\n",
        "        f.write(response.content)\n",
        "else:\n",
        "    print(\"Error : \" + response.text)"
      ],
      "execution_count": null,
      "outputs": [
        {
          "output_type": "stream",
          "name": "stdout",
          "text": [
            "200\n"
          ]
        }
      ]
    }
  ]
}