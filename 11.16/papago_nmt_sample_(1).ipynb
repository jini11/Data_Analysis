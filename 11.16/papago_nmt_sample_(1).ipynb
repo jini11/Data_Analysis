{
  "nbformat": 4,
  "nbformat_minor": 0,
  "metadata": {
    "anaconda-cloud": {},
    "kernelspec": {
      "display_name": "Python 3",
      "language": "python",
      "name": "python3"
    },
    "language_info": {
      "codemirror_mode": {
        "name": "ipython",
        "version": 3
      },
      "file_extension": ".py",
      "mimetype": "text/x-python",
      "name": "python",
      "nbconvert_exporter": "python",
      "pygments_lexer": "ipython3",
      "version": "3.6.1"
    },
    "colab": {
      "name": "papago_nmt_sample (1).ipynb",
      "provenance": [],
      "collapsed_sections": []
    }
  },
  "cells": [
    {
      "cell_type": "code",
      "metadata": {
        "id": "nilHicnrIvqU"
      },
      "source": [
        "import requests\n",
        "\n",
        "client_id = \"키 id\"\n",
        "client_secret = \"키\"\n",
        "\n",
        "url = \"https://naveropenapi.apigw.ntruss.com/nmt/v1/translation\"\n",
        "\n",
        "text = \"네이버 클라우드 플랫폼에서는 Clova, papago 등 네이버의 다양한 인공지능 서비스를 API 형태로 제공합니다. 고객은 네이버의 인공지능 서비스를 활용하여, \" \\\n",
        "       \"최신 기술 기반의 AI 서비스를 구축하고 안정적으로 운영할 수 있습니다..\"\n",
        "\n",
        "# ko : 한국어\u000b\n",
        "# en : 영어\u000b\n",
        "# zh-CN : 중국어 간체\u000b\n",
        "# zh-TW : 중국어 번체\u000b\n",
        "# es: 스페인어\u000b\n",
        "# fr: 프랑스어\n",
        "# vi: 베트남어\u000b\n",
        "# th: 태국어\u000b\n",
        "# id: 인도네시아어\n",
        "\n",
        "\n",
        "val = {\n",
        "    \"source\": 'ko',\n",
        "    \"target\": 'en',\n",
        "    \"text\": text\n",
        "}\n",
        "\n",
        "headers = {\n",
        "    \"X-NCP-APIGW-API-KEY-ID\": client_id,\n",
        "    \"X-NCP-APIGW-API-KEY\": client_secret\n",
        "}\n",
        "\n",
        "response = requests.post(url,  data=val, headers=headers)\n",
        "rescode = response.status_code\n",
        "\n",
        "if rescode == 200:\n",
        "    print(response.text)\n",
        "else:\n",
        "    print(\"Error : \" + response.text) "
      ],
      "execution_count": null,
      "outputs": []
    }
  ]
}