{
  "nbformat": 4,
  "nbformat_minor": 0,
  "metadata": {
    "anaconda-cloud": {},
    "kernelspec": {
      "display_name": "Python 3",
      "language": "python",
      "name": "python3"
    },
    "language_info": {
      "codemirror_mode": {
        "name": "ipython",
        "version": 3
      },
      "file_extension": ".py",
      "mimetype": "text/x-python",
      "name": "python",
      "nbconvert_exporter": "python",
      "pygments_lexer": "ipython3",
      "version": "3.6.1"
    },
    "colab": {
      "name": "clova_face_recognition_sample_test (1).ipynb",
      "provenance": [],
      "collapsed_sections": []
    }
  },
  "cells": [
    {
      "cell_type": "code",
      "metadata": {
        "colab": {
          "base_uri": "https://localhost:8080/"
        },
        "id": "WPbM_gZyhW7c",
        "outputId": "2bf4f1f3-f53c-4656-a3fd-d54517408aac"
      },
      "source": [
        "import requests\n",
        "\n",
        "client_id = \"키 id\"\n",
        "client_secret = \"키\"\n",
        "\n",
        "#url = \"https://naveropenapi.apigw.ntruss.com/vision/v1/face\"\n",
        "url = \"https://naveropenapi.apigw.ntruss.com/vision/v1/celebrity\"\n",
        "\n",
        "files = {\n",
        "    'image': open('/content/KakaoTalk_20211116_191301231.jpg', 'rb')\n",
        "    #'image': open('./contents/iu.jpg', 'rb')\n",
        "}\n",
        "\n",
        "headers = {\n",
        "    'X-NCP-APIGW-API-KEY-ID': client_id,\n",
        "    'X-NCP-APIGW-API-KEY': client_secret\n",
        "}\n",
        "\n",
        "response = requests.post(url,  files=files, headers=headers)\n",
        "rescode = response.status_code\n",
        "\n",
        "if rescode == 200:\n",
        "    print(response.text)\n",
        "else:\n",
        "#    print(rescode)\n",
        "    print(\"Error Code:\" + rescode)"
      ],
      "execution_count": null,
      "outputs": [
        {
          "output_type": "stream",
          "name": "stdout",
          "text": [
            "{\"info\":{\"size\":{\"width\":509,\"height\":647},\"faceCount\":1},\"faces\":[{\"celebrity\":{\"value\":\"한선화\",\"confidence\":0.123684}}]}\n"
          ]
        }
      ]
    }
  ]
}