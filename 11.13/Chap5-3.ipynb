{
 "cells": [
  {
   "cell_type": "markdown",
   "metadata": {},
   "source": [
    "### 5-3．딥러닝을 위한 데이터의 준비\n",
    "#### 데이터 세트의 작성"
   ]
  },
  {
   "cell_type": "code",
   "execution_count": 1,
   "metadata": {},
   "outputs": [
    {
     "name": "stdout",
     "output_type": "stream",
     "text": [
      "Requirement already satisfied: opencv-python in /srv/conda/lib/python3.6/site-packages (4.0.0.21)\n",
      "Requirement already satisfied: numpy>=1.11.3 in /srv/conda/lib/python3.6/site-packages (from opencv-python) (1.15.2)\n"
     ]
    }
   ],
   "source": [
    "# OpenCV의 인스톨\n",
    "!pip install opencv-python"
   ]
  },
  {
   "cell_type": "code",
   "execution_count": 1,
   "metadata": {},
   "outputs": [],
   "source": [
    "import os\n",
    "import cv2\n",
    "import numpy as np\n",
    "\n",
    "# 이미지 폴더의 지정\n",
    "dirs = ['ants', 'bees']\n",
    "\n",
    "# 이미지의 픽셀값과 레이블을 보존하기 위한 리스트를 생성\n",
    "pixels = [] # 설명변수\n",
    "labels = [] # 목적변수\n",
    "\n",
    "#  폴더의 파일을 하나씩 읽어들여 처리한 후에 리스트에 보존\n",
    "for i, d in enumerate(dirs):\n",
    "    # 파일명을 취득\n",
    "    files = os.listdir('./data/' + d)\n",
    "    \n",
    "    for f in files:\n",
    "        # 이미지를 그레이 스케일로 리드\n",
    "        img = cv2.imread('./data/' + d + '/' + f, 0)\n",
    "        # 이미지를 리사이즈\n",
    "        img = cv2.resize(img, (128, 128))\n",
    "        # 픽셀값을 보존\n",
    "        img = np.array(img).flatten().tolist()\n",
    "        pixels.append(img)\n",
    "        \n",
    "        # 이미지의 레이블을 리스트에 보존 \n",
    "        labels.append(i)"
   ]
  },
  {
   "cell_type": "code",
   "execution_count": 2,
   "metadata": {},
   "outputs": [
    {
     "name": "stdout",
     "output_type": "stream",
     "text": [
      "(128, 128, 1)\n",
      "0\n"
     ]
    }
   ],
   "source": [
    "# Numpy배열로 변화하고 2차원 배열로 리사이즈\n",
    "pixels = np.array(pixels)/255\n",
    "pixels = pixels.reshape([-1, 128, 128, 1])\n",
    "labels = np.array(labels)\n",
    "\n",
    "# 첫번째 이미지의 데이터 사이즈를 확인\n",
    "print(pixels[0].shape)\n",
    "# 첫번째 이미지의 레이블을 확인\n",
    "print(labels[0])"
   ]
  },
  {
   "cell_type": "code",
   "execution_count": 3,
   "metadata": {},
   "outputs": [
    {
     "name": "stdout",
     "output_type": "stream",
     "text": [
      "317\n",
      "80\n"
     ]
    }
   ],
   "source": [
    "from sklearn import model_selection\n",
    "\n",
    "# 데이터 세트를 훈련데이터와 테스트 데이터로 분할\n",
    "trainX, testX, trainY, testY = model_selection.train_test_split(pixels, labels, test_size=0.2)\n",
    "\n",
    "# 훈련데이터와 테스트 데이터의 사이즈 확인\n",
    "print(len(trainY))\n",
    "print(len(testY))"
   ]
  },
  {
   "cell_type": "markdown",
   "metadata": {},
   "source": [
    "##### === 모델의 작성은 여기서부터 ======================"
   ]
  },
  {
   "cell_type": "code",
   "execution_count": 5,
   "metadata": {},
   "outputs": [
    {
     "name": "stdout",
     "output_type": "stream",
     "text": [
      "Requirement already satisfied: keras in /srv/conda/lib/python3.6/site-packages (2.2.4)\n",
      "Requirement already satisfied: keras-preprocessing>=1.0.5 in /srv/conda/lib/python3.6/site-packages (from keras) (1.0.9)\n",
      "Requirement already satisfied: keras-applications>=1.0.6 in /srv/conda/lib/python3.6/site-packages (from keras) (1.0.7)\n",
      "Requirement already satisfied: scipy>=0.14 in /srv/conda/lib/python3.6/site-packages (from keras) (1.1.0)\n",
      "Requirement already satisfied: h5py in /srv/conda/lib/python3.6/site-packages (from keras) (2.8.0)\n",
      "Requirement already satisfied: numpy>=1.9.1 in /srv/conda/lib/python3.6/site-packages (from keras) (1.15.2)\n",
      "Requirement already satisfied: pyyaml in /srv/conda/lib/python3.6/site-packages (from keras) (3.13)\n",
      "Requirement already satisfied: six>=1.9.0 in /srv/conda/lib/python3.6/site-packages (from keras) (1.12.0)\n"
     ]
    }
   ],
   "source": [
    "!pip install keras"
   ]
  },
  {
   "cell_type": "code",
   "execution_count": 16,
   "metadata": {},
   "outputs": [
    {
     "name": "stdout",
     "output_type": "stream",
     "text": [
      "_________________________________________________________________\n",
      "Layer (type)                 Output Shape              Param #   \n",
      "=================================================================\n",
      "conv2d_9 (Conv2D)            (None, 124, 124, 16)      416       \n",
      "_________________________________________________________________\n",
      "max_pooling2d_9 (MaxPooling2 (None, 62, 62, 16)        0         \n",
      "_________________________________________________________________\n",
      "dropout_9 (Dropout)          (None, 62, 62, 16)        0         \n",
      "_________________________________________________________________\n",
      "conv2d_10 (Conv2D)           (None, 58, 58, 32)        12832     \n",
      "_________________________________________________________________\n",
      "max_pooling2d_10 (MaxPooling (None, 29, 29, 32)        0         \n",
      "_________________________________________________________________\n",
      "dropout_10 (Dropout)         (None, 29, 29, 32)        0         \n",
      "_________________________________________________________________\n",
      "flatten_5 (Flatten)          (None, 26912)             0         \n",
      "_________________________________________________________________\n",
      "dense_9 (Dense)              (None, 128)               3444864   \n",
      "_________________________________________________________________\n",
      "dense_10 (Dense)             (None, 1)                 129       \n",
      "=================================================================\n",
      "Total params: 3,458,241\n",
      "Trainable params: 3,458,241\n",
      "Non-trainable params: 0\n",
      "_________________________________________________________________\n"
     ]
    }
   ],
   "source": [
    "# keras의 로드\n",
    "from keras.models import Sequential\n",
    "from keras.layers import Dense, Flatten, Dropout\n",
    "from keras.layers import Conv2D, MaxPooling2D\n",
    "\n",
    "model = Sequential()\n",
    "# 첫번째 컨벌루션층과 풀링층\n",
    "model.add(Conv2D(16, (5, 5), activation='relu', input_shape=(128, 128, 1)))\n",
    "model.add(MaxPooling2D((2, 2)))\n",
    "model.add(Dropout(0.5))\n",
    "# 두번째 컨벌루션층과 풀링층\n",
    "model.add(Conv2D(32, (5, 5), activation='relu'))\n",
    "model.add(MaxPooling2D((2, 2)))\n",
    "model.add(Dropout(0.5))\n",
    "# 전 결합층\n",
    "model.add(Flatten())\n",
    "model.add(Dense(128, activation='relu'))\n",
    "# 출력층\n",
    "model.add(Dense(1, activation='sigmoid'))\n",
    "\n",
    "# 작성한 네트워크의 확인\n",
    "model.summary()"
   ]
  },
  {
   "cell_type": "code",
   "execution_count": 17,
   "metadata": {},
   "outputs": [
    {
     "name": "stdout",
     "output_type": "stream",
     "text": [
      "Train on 317 samples, validate on 80 samples\n",
      "Epoch 1/20\n",
      "317/317 [==============================] - 6s 20ms/step - loss: 0.7026 - acc: 0.4890 - val_loss: 0.6901 - val_acc: 0.5625\n",
      "Epoch 2/20\n",
      "317/317 [==============================] - 6s 19ms/step - loss: 0.6956 - acc: 0.5489 - val_loss: 0.6918 - val_acc: 0.5125\n",
      "Epoch 3/20\n",
      "317/317 [==============================] - 6s 19ms/step - loss: 0.6954 - acc: 0.5552 - val_loss: 0.6874 - val_acc: 0.5625\n",
      "Epoch 4/20\n",
      "317/317 [==============================] - 6s 20ms/step - loss: 0.6876 - acc: 0.5584 - val_loss: 0.6846 - val_acc: 0.5500\n",
      "Epoch 5/20\n",
      "317/317 [==============================] - 6s 20ms/step - loss: 0.6840 - acc: 0.5710 - val_loss: 0.6850 - val_acc: 0.5625\n",
      "Epoch 6/20\n",
      "317/317 [==============================] - 7s 21ms/step - loss: 0.6849 - acc: 0.5237 - val_loss: 0.6831 - val_acc: 0.5000\n",
      "Epoch 7/20\n",
      "317/317 [==============================] - 6s 20ms/step - loss: 0.6985 - acc: 0.5300 - val_loss: 0.6802 - val_acc: 0.6875\n",
      "Epoch 8/20\n",
      "317/317 [==============================] - 6s 19ms/step - loss: 0.6955 - acc: 0.5110 - val_loss: 0.6797 - val_acc: 0.7000\n",
      "Epoch 9/20\n",
      "317/317 [==============================] - 6s 20ms/step - loss: 0.6807 - acc: 0.5804 - val_loss: 0.6798 - val_acc: 0.6750\n",
      "Epoch 10/20\n",
      "317/317 [==============================] - 7s 21ms/step - loss: 0.6794 - acc: 0.6025 - val_loss: 0.6770 - val_acc: 0.6875\n",
      "Epoch 11/20\n",
      "317/317 [==============================] - 7s 21ms/step - loss: 0.6750 - acc: 0.5741 - val_loss: 0.6793 - val_acc: 0.5000\n",
      "Epoch 12/20\n",
      "317/317 [==============================] - 6s 20ms/step - loss: 0.6744 - acc: 0.5584 - val_loss: 0.6744 - val_acc: 0.6875\n",
      "Epoch 13/20\n",
      "317/317 [==============================] - 6s 18ms/step - loss: 0.6854 - acc: 0.5741 - val_loss: 0.6742 - val_acc: 0.6875\n",
      "Epoch 14/20\n",
      "317/317 [==============================] - 6s 18ms/step - loss: 0.6760 - acc: 0.6057 - val_loss: 0.6739 - val_acc: 0.7000\n",
      "Epoch 15/20\n",
      "317/317 [==============================] - 6s 20ms/step - loss: 0.6881 - acc: 0.5363 - val_loss: 0.6759 - val_acc: 0.4875\n",
      "Epoch 16/20\n",
      "317/317 [==============================] - 6s 20ms/step - loss: 0.6772 - acc: 0.5457 - val_loss: 0.6721 - val_acc: 0.7000\n",
      "Epoch 17/20\n",
      "317/317 [==============================] - 6s 19ms/step - loss: 0.6610 - acc: 0.6151 - val_loss: 0.6683 - val_acc: 0.6750\n",
      "Epoch 18/20\n",
      "317/317 [==============================] - 6s 18ms/step - loss: 0.6657 - acc: 0.5962 - val_loss: 0.6681 - val_acc: 0.6750\n",
      "Epoch 19/20\n",
      "317/317 [==============================] - 6s 18ms/step - loss: 0.6623 - acc: 0.5899 - val_loss: 0.6648 - val_acc: 0.6875\n",
      "Epoch 20/20\n",
      "317/317 [==============================] - 6s 20ms/step - loss: 0.6831 - acc: 0.5615 - val_loss: 0.6639 - val_acc: 0.6625\n"
     ]
    }
   ],
   "source": [
    "# 학습조건의 설정　오차함수 = 2값의 교차 엔트로피, 최적화 방법 = SGD법, 측정방법 = 모델의 정밀도\n",
    "model.compile(loss='binary_crossentropy', optimizer='sgd', metrics=['accuracy'])\n",
    "\n",
    "# 학습의 실행\n",
    "hist = model.fit(trainX, trainY, batch_size=64, verbose=1, \n",
    "                 epochs=20, validation_data=(testX, testY))"
   ]
  },
  {
   "cell_type": "code",
   "execution_count": 18,
   "metadata": {},
   "outputs": [
    {
     "data": {
      "image/png": "[encoded data removed]",
      "text/plain": [
       "<Figure size 432x288 with 1 Axes>"
      ]
     },
     "metadata": {
      "needs_background": "light"
     },
     "output_type": "display_data"
    }
   ],
   "source": [
    "# 훈련데이터와 테스트 데이터의 정밀도의 이력을 플로트\n",
    "plt.plot(hist.history['accuracy'])\n",
    "plt.plot(hist.history['val_accuracy'])\n",
    "plt.ylabel('accuracy')\n",
    "plt.xlabel('epoch')\n",
    "plt.legend(['train', 'val'], loc='upper left')\n",
    "plt.show()"
   ]
  },
  {
   "cell_type": "code",
   "execution_count": 19,
   "metadata": {},
   "outputs": [
    {
     "data": {
      "image/png": "[encoded data removed]",
      "text/plain": [
       "<Figure size 432x288 with 1 Axes>"
      ]
     },
     "metadata": {
      "needs_background": "light"
     },
     "output_type": "display_data"
    }
   ],
   "source": [
    "# 訓練データとテストデータの精度の履歴を描画\n",
    "plt.plot(hist.history['acc'])\n",
    "plt.plot(hist.history['val_acc'])\n",
    "plt.ylabel('accuracy')\n",
    "plt.xlabel('epoch')\n",
    "plt.legend(['train', 'val'], loc='upper left')\n",
    "plt.show()"
   ]
  },
  {
   "cell_type": "markdown",
   "metadata": {},
   "source": [
    "##### === 모델의 작성은 여기까지 ======================"
   ]
  },
  {
   "cell_type": "code",
   "execution_count": 2,
   "metadata": {},
   "outputs": [],
   "source": [
    "import os\n",
    "import cv2\n",
    "import numpy as np\n",
    "\n",
    "# 이미지 폴더의 지정\n",
    "dirs = ['ants', 'bees']\n",
    "\n",
    "# 연습문제7\n",
    "# 이미지의 픽셀값과 레이블을 보존하기 위한 리스트를 생성\n",
    "pixels2 = [] # 설명변수\n",
    "labels2 = [] # 목적변수\n",
    "\n",
    "# 각 폴더의 파일을 하나씩 읽어들여 처리한 후에 리스트에 보존\n",
    "for i, d in enumerate(dirs):\n",
    "    # 파일명을 취득\n",
    "    files = os.listdir('./data/' + d)\n",
    "    \n",
    "    for f in files:\n",
    "        # 이미지를 그레이 스케일로 리드\n",
    "        img2 = cv2.imread('./data/' + d + '/' + f)\n",
    "        # 이미지를 리사이즈\n",
    "        img2 = cv2.resize(img2, (128, 128))\n",
    "        # 픽셀값을 정규화\n",
    "        img2 = img2/255\n",
    "        pixels2.append(img2)\n",
    "        \n",
    "        # 이미지의 레이블을 리스트에 보존\n",
    "        labels2.append(i)"
   ]
  },
  {
   "cell_type": "code",
   "execution_count": 4,
   "metadata": {},
   "outputs": [
    {
     "name": "stdout",
     "output_type": "stream",
     "text": [
      "(128, 128, 3)\n",
      "0\n",
      "317\n",
      "80\n"
     ]
    }
   ],
   "source": [
    "from sklearn import model_selection\n",
    "\n",
    "# Numpy배열로 변화하고 2차원 배열로 리사이즈\n",
    "pixels2 = np.array(pixels2).reshape([-1, 128, 128, 3])\n",
    "labels2 = np.array(labels2)\n",
    "\n",
    "# 첫번째 이미지의 데이터 사이즈와 레이블을 확인\n",
    "print(pixels2[0].shape)\n",
    "print(labels2[0])\n",
    "\n",
    "# 데이터 세트를 훈련데이터와 테스트 데이터로 분할\n",
    "trainX, testX, trainY, testY = model_selection.train_test_split(\n",
    "    pixels2, labels2, test_size=0.2)\n",
    "\n",
    "# 훈련데이터와 테스트 데이터의 사이즈 확인\n",
    "print(len(trainY))\n",
    "print(len(testY))"
   ]
  },
  {
   "cell_type": "markdown",
   "metadata": {},
   "source": [
    "##### === 모델의 작성은 여기서부터 ======================"
   ]
  },
  {
   "cell_type": "code",
   "execution_count": 5,
   "metadata": {},
   "outputs": [
    {
     "name": "stderr",
     "output_type": "stream",
     "text": [
      "Using TensorFlow backend.\n"
     ]
    },
    {
     "name": "stdout",
     "output_type": "stream",
     "text": [
      "_________________________________________________________________\n",
      "Layer (type)                 Output Shape              Param #   \n",
      "=================================================================\n",
      "conv2d_1 (Conv2D)            (None, 124, 124, 16)      1216      \n",
      "_________________________________________________________________\n",
      "max_pooling2d_1 (MaxPooling2 (None, 62, 62, 16)        0         \n",
      "_________________________________________________________________\n",
      "dropout_1 (Dropout)          (None, 62, 62, 16)        0         \n",
      "_________________________________________________________________\n",
      "conv2d_2 (Conv2D)            (None, 58, 58, 32)        12832     \n",
      "_________________________________________________________________\n",
      "max_pooling2d_2 (MaxPooling2 (None, 29, 29, 32)        0         \n",
      "_________________________________________________________________\n",
      "dropout_2 (Dropout)          (None, 29, 29, 32)        0         \n",
      "_________________________________________________________________\n",
      "flatten_1 (Flatten)          (None, 26912)             0         \n",
      "_________________________________________________________________\n",
      "dense_1 (Dense)              (None, 128)               3444864   \n",
      "_________________________________________________________________\n",
      "dense_2 (Dense)              (None, 1)                 129       \n",
      "=================================================================\n",
      "Total params: 3,459,041\n",
      "Trainable params: 3,459,041\n",
      "Non-trainable params: 0\n",
      "_________________________________________________________________\n"
     ]
    }
   ],
   "source": [
    "# keras의 로드\n",
    "from keras.models import Sequential\n",
    "from keras.layers import Dense, Flatten, Dropout\n",
    "from keras.layers import Conv2D, MaxPooling2D\n",
    "\n",
    "model = Sequential()\n",
    "# 첫번째 컨벌루션층과 풀링층\n",
    "model.add(Conv2D(16, (5, 5), activation='relu', input_shape=(128, 128, 3)))\n",
    "model.add(MaxPooling2D((2, 2)))\n",
    "model.add(Dropout(0.5))\n",
    "# 두번째 컨벌루션층과 풀링층\n",
    "model.add(Conv2D(32, (5, 5), activation='relu'))\n",
    "model.add(MaxPooling2D((2, 2)))\n",
    "model.add(Dropout(0.5))\n",
    "# 전 결합층\n",
    "model.add(Flatten())\n",
    "model.add(Dense(128, activation='relu'))\n",
    "# 출력층\n",
    "model.add(Dense(1, activation='sigmoid'))\n",
    "\n",
    "# 작성한 네트워크의 확인\n",
    "model.summary()"
   ]
  },
  {
   "cell_type": "code",
   "execution_count": 6,
   "metadata": {},
   "outputs": [
    {
     "name": "stdout",
     "output_type": "stream",
     "text": [
      "Train on 317 samples, validate on 80 samples\n",
      "Epoch 1/20\n",
      "317/317 [==============================] - 13s 42ms/step - loss: 5.6794 - acc: 0.4858 - val_loss: 0.6954 - val_acc: 0.5500\n",
      "Epoch 2/20\n",
      "317/317 [==============================] - 9s 27ms/step - loss: 0.8104 - acc: 0.5110 - val_loss: 0.6927 - val_acc: 0.4875\n",
      "Epoch 3/20\n",
      "317/317 [==============================] - 9s 27ms/step - loss: 0.6918 - acc: 0.5205 - val_loss: 0.6931 - val_acc: 0.4875\n",
      "Epoch 4/20\n",
      "317/317 [==============================] - 10s 31ms/step - loss: 0.6909 - acc: 0.5205 - val_loss: 0.6931 - val_acc: 0.4875\n",
      "Epoch 5/20\n",
      "317/317 [==============================] - 10s 30ms/step - loss: 0.6909 - acc: 0.5205 - val_loss: 0.6930 - val_acc: 0.4875\n",
      "Epoch 6/20\n",
      "317/317 [==============================] - 9s 28ms/step - loss: 0.6894 - acc: 0.5205 - val_loss: 0.6931 - val_acc: 0.5500\n",
      "Epoch 7/20\n",
      "317/317 [==============================] - 9s 27ms/step - loss: 0.6808 - acc: 0.5899 - val_loss: 0.6926 - val_acc: 0.5000\n",
      "Epoch 8/20\n",
      "317/317 [==============================] - 9s 28ms/step - loss: 0.6661 - acc: 0.6309 - val_loss: 0.7161 - val_acc: 0.5125\n",
      "Epoch 9/20\n",
      "317/317 [==============================] - 9s 27ms/step - loss: 0.6459 - acc: 0.6088 - val_loss: 0.7022 - val_acc: 0.5375\n",
      "Epoch 10/20\n",
      "317/317 [==============================] - 9s 28ms/step - loss: 0.6243 - acc: 0.6309 - val_loss: 0.6746 - val_acc: 0.5750\n",
      "Epoch 11/20\n",
      "317/317 [==============================] - 9s 29ms/step - loss: 0.6414 - acc: 0.6246 - val_loss: 0.6633 - val_acc: 0.5750\n",
      "Epoch 12/20\n",
      "317/317 [==============================] - 10s 32ms/step - loss: 0.6245 - acc: 0.6498 - val_loss: 0.7174 - val_acc: 0.5250\n",
      "Epoch 13/20\n",
      "317/317 [==============================] - 9s 29ms/step - loss: 0.6237 - acc: 0.6435 - val_loss: 0.6664 - val_acc: 0.5750\n",
      "Epoch 14/20\n",
      "317/317 [==============================] - 9s 28ms/step - loss: 0.5838 - acc: 0.7287 - val_loss: 0.6833 - val_acc: 0.5375\n",
      "Epoch 15/20\n",
      "317/317 [==============================] - 9s 27ms/step - loss: 0.5676 - acc: 0.7476 - val_loss: 0.6997 - val_acc: 0.5500\n",
      "Epoch 16/20\n",
      "317/317 [==============================] - 9s 29ms/step - loss: 0.5388 - acc: 0.7445 - val_loss: 0.8695 - val_acc: 0.5375\n",
      "Epoch 17/20\n",
      "317/317 [==============================] - 10s 32ms/step - loss: 0.5789 - acc: 0.7129 - val_loss: 0.7486 - val_acc: 0.5500\n",
      "Epoch 18/20\n",
      "317/317 [==============================] - 10s 30ms/step - loss: 0.5333 - acc: 0.7508 - val_loss: 0.6853 - val_acc: 0.5625\n",
      "Epoch 19/20\n",
      "317/317 [==============================] - 9s 27ms/step - loss: 0.5307 - acc: 0.7476 - val_loss: 0.7089 - val_acc: 0.5375\n",
      "Epoch 20/20\n",
      "317/317 [==============================] - 9s 27ms/step - loss: 0.4894 - acc: 0.7823 - val_loss: 0.7324 - val_acc: 0.5500\n"
     ]
    }
   ],
   "source": [
    "# 학습조건의 설정　오차함수 = 2값의 교차 엔트로피, 최적화 방법 = 확률적경사하강법, 측정방법 = 모델의 정밀도\n",
    "model.compile(loss='binary_crossentropy', optimizer='adam', metrics=['accuracy'])\n",
    "\n",
    "# 학습의 실행 \n",
    "hist = model.fit(trainX, trainY, batch_size=64, verbose=1, \n",
    "                 epochs=20, validation_data=(testX, testY))"
   ]
  },
  {
   "cell_type": "code",
   "execution_count": 9,
   "metadata": {},
   "outputs": [
    {
     "data": {
      "image/png": "[encoded data removed]",
      "text/plain": [
       "<Figure size 432x288 with 1 Axes>"
      ]
     },
     "metadata": {
      "needs_background": "light"
     },
     "output_type": "display_data"
    }
   ],
   "source": [
    "import matplotlib.pyplot as plt\n",
    "\n",
    "# 훈련데이터와 테스트 데이터의 오차의 이력을 플로트\n",
    "plt.plot(hist.history['loss'])\n",
    "plt.plot(hist.history['val_loss'])\n",
    "plt.ylabel('loss')\n",
    "plt.xlabel('epoch')\n",
    "plt.legend(['train', 'val'], loc='upper right')\n",
    "plt.show()"
   ]
  },
  {
   "cell_type": "code",
   "execution_count": 10,
   "metadata": {},
   "outputs": [
    {
     "data": {
      "image/png": "[encoded data removed]",
      "text/plain": [
       "<Figure size 432x288 with 1 Axes>"
      ]
     },
     "metadata": {
      "needs_background": "light"
     },
     "output_type": "display_data"
    }
   ],
   "source": [
    "# 훈련데이터와 테스트 데이터의 정밀도의 이력을 플로트\n",
    "plt.plot(hist.history['accuracy'])\n",
    "plt.plot(hist.history['val_accuracy'])\n",
    "plt.ylabel('accuracy')\n",
    "plt.xlabel('epoch')\n",
    "plt.legend(['train', 'val'], loc='upper left')\n",
    "plt.show()"
   ]
  },
  {
   "cell_type": "markdown",
   "metadata": {},
   "source": [
    "##### === 모델의 작성은 여기까지 ======================"
   ]
  },
  {
   "cell_type": "markdown",
   "metadata": {},
   "source": [
    "#### 이미지 수 늘리기"
   ]
  },
  {
   "cell_type": "code",
   "execution_count": 1,
   "metadata": {},
   "outputs": [
    {
     "data": {
      "text/plain": [
       "True"
      ]
     },
     "execution_count": 1,
     "metadata": {},
     "output_type": "execute_result"
    }
   ],
   "source": [
    "# 이미지를 그레이 스케일로 리드\n",
    "img = cv2.imread('./data/ants/swiss-army-ant.jpg', 0)\n",
    "\n",
    "# 이미지의 반전\n",
    "x_img = cv2.flip(img, 0) # x축을 기준\n",
    "y_img = cv2.flip(img, 1) # y축을 기준\n",
    "xy_img = cv2.flip(img, -1) # xy축을 기준\n",
    "\n",
    "# 이미지의 출력\n",
    "cv2.imwrite('x_img.jpg', x_img)\n",
    "cv2.imwrite('y_img.jpg', y_img)\n",
    "cv2.imwrite('xy_img.jpg', xy_img)"
   ]
  },
  {
   "cell_type": "code",
   "execution_count": 2,
   "metadata": {},
   "outputs": [
    {
     "data": {
      "text/plain": [
       "True"
      ]
     },
     "execution_count": 2,
     "metadata": {},
     "output_type": "execute_result"
    }
   ],
   "source": [
    "# 이미지의 블러 처리\n",
    "blur_img = cv2.blur(img, (5,5)) # 平均値\n",
    "gau_img = cv2.GaussianBlur(img, (5,5), 0) # ガウシアン\n",
    "med_img = cv2.medianBlur(img, 5) # 中央値\n",
    "#bilf_img = cv2.bilateralFilter(img, 9, 75, 75) # バイラテラル\n",
    "\n",
    "# 이미지의 출력\n",
    "cv2.imwrite('blur_img.jpg', blur_img)\n",
    "cv2.imwrite('gau_img.jpg', gau_img)\n",
    "cv2.imwrite('med_img.jpg', med_img)\n",
    "#cv2.imwrite('bilf_img.jpg', bilf_img)"
   ]
  },
  {
   "cell_type": "code",
   "execution_count": 4,
   "metadata": {},
   "outputs": [
    {
     "data": {
      "text/plain": [
       "True"
      ]
     },
     "execution_count": 4,
     "metadata": {},
     "output_type": "execute_result"
    }
   ],
   "source": [
    "# 감마계수\n",
    "gamma = 1.5\n",
    "\n",
    "# lookup테이블의 작성\n",
    "lut = np.zeros((256,1), dtype = 'uint8')\n",
    "\n",
    "for i in range(len(lut)):\n",
    "    lut[i][0] = 255 * pow((float(i)/255), (1.0/gamma))\n",
    "\n",
    "# 보정해서 이미지를 변환\n",
    "gamma_img = cv2.LUT(img, lut)\n",
    "\n",
    "# 이미지의 출력\n",
    "cv2.imwrite('gamma_img.jpg', gamma_img)"
   ]
  },
  {
   "cell_type": "code",
   "execution_count": 6,
   "metadata": {},
   "outputs": [],
   "source": [
    "# 연습문제8\n",
    "files = os.listdir('./data/ants/')\n",
    "\n",
    "# 감마계수\n",
    "gamma = 0.6\n",
    "\n",
    "# 감마계수가 1.2에 도달 할 때까지 반복처리\n",
    "while gamma <= 1.2:\n",
    "    # lookup테이블의 작성\n",
    "    lut = np.zeros((256,1), dtype = 'uint8')\n",
    "\n",
    "    for i in range(len(lut)):\n",
    "        lut[i][0] = 255 * pow((float(i)/255), (1.0/gamma))\n",
    "\n",
    "    for f in files:\n",
    "        # 이미지를 그레이 스케일로 리드\n",
    "        img = cv2.imread('./data/ants/' + f, 0)\n",
    "        # 보정해서 이미지를 변환\n",
    "        gamma_img = cv2.LUT(img, lut)\n",
    "        # 이미지의 출력\n",
    "        cv2.imwrite('./data/dummy_ants/gamma' + str(gamma) + '_' + f, gamma_img)\n",
    "        \n",
    "    # 감마계수를 0.6씩 증가\n",
    "    gamma = gamma + 0.6"
   ]
  },
  {
   "cell_type": "markdown",
   "metadata": {},
   "source": [
    "##### === 보충지식은 여기서부터 ======================"
   ]
  },
  {
   "cell_type": "code",
   "execution_count": 12,
   "metadata": {},
   "outputs": [
    {
     "name": "stdout",
     "output_type": "stream",
     "text": [
      "80\n",
      "124\n",
      "124\n",
      "16\n"
     ]
    }
   ],
   "source": [
    "from keras import backend as K\n",
    "\n",
    "# 첫번째 컨벌루션층의 특징량을 추출\n",
    "get_output = K.function([model.layers[0].input], [model.layers[0].output])\n",
    "# 테스트 데이터에 적용\n",
    "output = get_output([testX, ])[0]\n",
    "\n",
    "# 데이터 사이즈를 확인\n",
    "print(len(output)) # 테스트 데이터의 건수\n",
    "print(len(output[0])) # 세로 사이즈\n",
    "print(len(output[0][0])) # 가로 사이즈\n",
    "print(len(output[0][0][0])) # 필터 수"
   ]
  },
  {
   "cell_type": "code",
   "execution_count": 18,
   "metadata": {},
   "outputs": [
    {
     "data": {
      "image/png": "[encoded data removed]",
      "text/plain": [
       "<matplotlib.figure.Figure at 0x7f5a00181470>"
      ]
     },
     "metadata": {},
     "output_type": "display_data"
    }
   ],
   "source": [
    "import pandas as pd\n",
    "import matplotlib.pyplot as plt\n",
    "\n",
    "filter1 = []\n",
    "\n",
    "# 첫번째 이미지의, 첫번째 컨벌루션층의 특징량을 플로트\n",
    "for i in range(0, 1):\n",
    "    for j in range(0, 124):\n",
    "        tmp = pd.DataFrame(output[i][j])\n",
    "        tmp = tmp[0]\n",
    "        tmp = np.array(tmp).tolist()\n",
    "        filter1.append(tmp)\n",
    "        tmp = []\n",
    "\n",
    "plt.imshow(np.array(filter1), cmap='gray')\n",
    "plt.show()"
   ]
  },
  {
   "cell_type": "markdown",
   "metadata": {},
   "source": [
    "##### === 보충지식은 여기까지 ======================"
   ]
  },
  {
   "cell_type": "code",
   "execution_count": null,
   "metadata": {},
   "outputs": [],
   "source": []
  }
 ],
 "metadata": {
  "kernelspec": {
   "display_name": "Python 3",
   "language": "python",
   "name": "python3"
  },
  "language_info": {
   "codemirror_mode": {
    "name": "ipython",
    "version": 3
   },
   "file_extension": ".py",
   "mimetype": "text/x-python",
   "name": "python",
   "nbconvert_exporter": "python",
   "pygments_lexer": "ipython3",
   "version": "3.7.7"
  }
 },
 "nbformat": 4,
 "nbformat_minor": 4
}
