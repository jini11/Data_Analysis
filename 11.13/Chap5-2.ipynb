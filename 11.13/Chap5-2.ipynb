{
 "cells": [
  {
   "cell_type": "markdown",
   "metadata": {},
   "source": [
    "### 5-2．기계학습을 위한 데이터 준비\n",
    "#### 데이터 세트의 작성"
   ]
  },
  {
   "cell_type": "code",
   "execution_count": 1,
   "metadata": {},
   "outputs": [
    {
     "name": "stdout",
     "output_type": "stream",
     "text": [
      "Requirement already satisfied: opencv-python in /srv/conda/lib/python3.6/site-packages (4.0.0.21)\n",
      "Requirement already satisfied: numpy>=1.11.3 in /srv/conda/lib/python3.6/site-packages (from opencv-python) (1.15.2)\n"
     ]
    }
   ],
   "source": [
    "# OpenCV의 인스톨\n",
    "!pip install opencv-python"
   ]
  },
  {
   "cell_type": "code",
   "execution_count": 1,
   "metadata": {},
   "outputs": [],
   "source": [
    "import os\n",
    "import cv2\n",
    "import numpy as np\n",
    "\n",
    "# 이미지 폴더의 지정\n",
    "dirs = ['ants', 'bees']\n",
    "\n",
    "# 이미지의 픽셀값과 레이블을 보존하기 위한 리스트를 생성\n",
    "pixels = [] # 설명변수\n",
    "labels = [] # 목적변수\n",
    "\n",
    "# 각 폴더의 파일을 하나씩 읽어들여 처리한 후에 리스트에 보존\n",
    "for i, d in enumerate(dirs):\n",
    "    # 파일명을 취득\n",
    "    files = os.listdir('./data/' + d)\n",
    "    \n",
    "    for f in files:\n",
    "        # 이미지를 그레이 스케일로 리드\n",
    "        img = cv2.imread('./data/' + d + '/' + f, 0)\n",
    "        # 이미지를 리사이즈\n",
    "        img = cv2.resize(img, (128, 128))\n",
    "        # 픽셀값을 보존\n",
    "        img = np.array(img).flatten().tolist()\n",
    "        pixels.append(img)\n",
    "        \n",
    "        # 이미지의 레이블을 리스트에 보존 \n",
    "        labels.append(i)"
   ]
  },
  {
   "cell_type": "code",
   "execution_count": 2,
   "metadata": {},
   "outputs": [
    {
     "data": {
      "text/html": [
       "<div>\n",
       "<style scoped>\n",
       "    .dataframe tbody tr th:only-of-type {\n",
       "        vertical-align: middle;\n",
       "    }\n",
       "\n",
       "    .dataframe tbody tr th {\n",
       "        vertical-align: top;\n",
       "    }\n",
       "\n",
       "    .dataframe thead th {\n",
       "        text-align: right;\n",
       "    }\n",
       "</style>\n",
       "<table border=\"1\" class=\"dataframe\">\n",
       "  <thead>\n",
       "    <tr style=\"text-align: right;\">\n",
       "      <th></th>\n",
       "      <th>0</th>\n",
       "      <th>1</th>\n",
       "      <th>2</th>\n",
       "      <th>3</th>\n",
       "      <th>4</th>\n",
       "      <th>5</th>\n",
       "      <th>6</th>\n",
       "      <th>7</th>\n",
       "      <th>8</th>\n",
       "      <th>9</th>\n",
       "      <th>...</th>\n",
       "      <th>16375</th>\n",
       "      <th>16376</th>\n",
       "      <th>16377</th>\n",
       "      <th>16378</th>\n",
       "      <th>16379</th>\n",
       "      <th>16380</th>\n",
       "      <th>16381</th>\n",
       "      <th>16382</th>\n",
       "      <th>16383</th>\n",
       "      <th>label</th>\n",
       "    </tr>\n",
       "  </thead>\n",
       "  <tbody>\n",
       "    <tr>\n",
       "      <th>0</th>\n",
       "      <td>0.549020</td>\n",
       "      <td>0.552941</td>\n",
       "      <td>0.545098</td>\n",
       "      <td>0.552941</td>\n",
       "      <td>0.545098</td>\n",
       "      <td>0.556863</td>\n",
       "      <td>0.556863</td>\n",
       "      <td>0.556863</td>\n",
       "      <td>0.552941</td>\n",
       "      <td>0.556863</td>\n",
       "      <td>...</td>\n",
       "      <td>0.294118</td>\n",
       "      <td>0.282353</td>\n",
       "      <td>0.286275</td>\n",
       "      <td>0.274510</td>\n",
       "      <td>0.294118</td>\n",
       "      <td>0.286275</td>\n",
       "      <td>0.286275</td>\n",
       "      <td>0.278431</td>\n",
       "      <td>0.360784</td>\n",
       "      <td>0</td>\n",
       "    </tr>\n",
       "    <tr>\n",
       "      <th>1</th>\n",
       "      <td>0.756863</td>\n",
       "      <td>0.831373</td>\n",
       "      <td>0.894118</td>\n",
       "      <td>0.815686</td>\n",
       "      <td>0.862745</td>\n",
       "      <td>0.866667</td>\n",
       "      <td>0.737255</td>\n",
       "      <td>0.772549</td>\n",
       "      <td>0.768627</td>\n",
       "      <td>0.219608</td>\n",
       "      <td>...</td>\n",
       "      <td>0.866667</td>\n",
       "      <td>0.890196</td>\n",
       "      <td>0.933333</td>\n",
       "      <td>0.905882</td>\n",
       "      <td>0.882353</td>\n",
       "      <td>0.921569</td>\n",
       "      <td>0.945098</td>\n",
       "      <td>0.858824</td>\n",
       "      <td>0.823529</td>\n",
       "      <td>0</td>\n",
       "    </tr>\n",
       "    <tr>\n",
       "      <th>2</th>\n",
       "      <td>0.941176</td>\n",
       "      <td>0.917647</td>\n",
       "      <td>0.945098</td>\n",
       "      <td>0.933333</td>\n",
       "      <td>0.952941</td>\n",
       "      <td>0.886275</td>\n",
       "      <td>0.941176</td>\n",
       "      <td>0.788235</td>\n",
       "      <td>0.882353</td>\n",
       "      <td>0.933333</td>\n",
       "      <td>...</td>\n",
       "      <td>0.717647</td>\n",
       "      <td>0.552941</td>\n",
       "      <td>0.729412</td>\n",
       "      <td>0.686275</td>\n",
       "      <td>0.239216</td>\n",
       "      <td>0.352941</td>\n",
       "      <td>0.443137</td>\n",
       "      <td>0.462745</td>\n",
       "      <td>0.596078</td>\n",
       "      <td>0</td>\n",
       "    </tr>\n",
       "    <tr>\n",
       "      <th>3</th>\n",
       "      <td>0.537255</td>\n",
       "      <td>0.533333</td>\n",
       "      <td>0.521569</td>\n",
       "      <td>0.545098</td>\n",
       "      <td>0.552941</td>\n",
       "      <td>0.564706</td>\n",
       "      <td>0.580392</td>\n",
       "      <td>0.592157</td>\n",
       "      <td>0.600000</td>\n",
       "      <td>0.623529</td>\n",
       "      <td>...</td>\n",
       "      <td>0.462745</td>\n",
       "      <td>0.454902</td>\n",
       "      <td>0.470588</td>\n",
       "      <td>0.474510</td>\n",
       "      <td>0.466667</td>\n",
       "      <td>0.466667</td>\n",
       "      <td>0.470588</td>\n",
       "      <td>0.458824</td>\n",
       "      <td>0.470588</td>\n",
       "      <td>0</td>\n",
       "    </tr>\n",
       "    <tr>\n",
       "      <th>4</th>\n",
       "      <td>0.521569</td>\n",
       "      <td>0.545098</td>\n",
       "      <td>0.549020</td>\n",
       "      <td>0.564706</td>\n",
       "      <td>0.572549</td>\n",
       "      <td>0.592157</td>\n",
       "      <td>0.588235</td>\n",
       "      <td>0.584314</td>\n",
       "      <td>0.580392</td>\n",
       "      <td>0.568627</td>\n",
       "      <td>...</td>\n",
       "      <td>0.537255</td>\n",
       "      <td>0.564706</td>\n",
       "      <td>0.674510</td>\n",
       "      <td>0.541176</td>\n",
       "      <td>0.482353</td>\n",
       "      <td>0.800000</td>\n",
       "      <td>0.894118</td>\n",
       "      <td>0.611765</td>\n",
       "      <td>0.654902</td>\n",
       "      <td>0</td>\n",
       "    </tr>\n",
       "  </tbody>\n",
       "</table>\n",
       "<p>5 rows × 16385 columns</p>\n",
       "</div>"
      ],
      "text/plain": [
       "          0         1         2         3         4         5         6  \\\n",
       "0  0.549020  0.552941  0.545098  0.552941  0.545098  0.556863  0.556863   \n",
       "1  0.756863  0.831373  0.894118  0.815686  0.862745  0.866667  0.737255   \n",
       "2  0.941176  0.917647  0.945098  0.933333  0.952941  0.886275  0.941176   \n",
       "3  0.537255  0.533333  0.521569  0.545098  0.552941  0.564706  0.580392   \n",
       "4  0.521569  0.545098  0.549020  0.564706  0.572549  0.592157  0.588235   \n",
       "\n",
       "          7         8         9  ...     16375     16376     16377     16378  \\\n",
       "0  0.556863  0.552941  0.556863  ...  0.294118  0.282353  0.286275  0.274510   \n",
       "1  0.772549  0.768627  0.219608  ...  0.866667  0.890196  0.933333  0.905882   \n",
       "2  0.788235  0.882353  0.933333  ...  0.717647  0.552941  0.729412  0.686275   \n",
       "3  0.592157  0.600000  0.623529  ...  0.462745  0.454902  0.470588  0.474510   \n",
       "4  0.584314  0.580392  0.568627  ...  0.537255  0.564706  0.674510  0.541176   \n",
       "\n",
       "      16379     16380     16381     16382     16383  label  \n",
       "0  0.294118  0.286275  0.286275  0.278431  0.360784      0  \n",
       "1  0.882353  0.921569  0.945098  0.858824  0.823529      0  \n",
       "2  0.239216  0.352941  0.443137  0.462745  0.596078      0  \n",
       "3  0.466667  0.466667  0.470588  0.458824  0.470588      0  \n",
       "4  0.482353  0.800000  0.894118  0.611765  0.654902      0  \n",
       "\n",
       "[5 rows x 16385 columns]"
      ]
     },
     "execution_count": 2,
     "metadata": {},
     "output_type": "execute_result"
    }
   ],
   "source": [
    "import pandas as pd\n",
    "\n",
    "# 피셀값을 데이터 프레임형식으로 변환\n",
    "pixels_df = pd.DataFrame(pixels)\n",
    "pixels_df = pixels_df/255 # 正規化\n",
    "\n",
    "# 레이블을 데이터 프레임 형식으로 변환\n",
    "labels_df = pd.DataFrame(labels)\n",
    "labels_df = labels_df.rename(columns={0: 'label'})\n",
    "\n",
    "# 2개의 데이터 프레임을 수평결합\n",
    "img_set = pd.concat([pixels_df, labels_df], axis=1)\n",
    "img_set.head()"
   ]
  },
  {
   "cell_type": "code",
   "execution_count": 3,
   "metadata": {},
   "outputs": [],
   "source": [
    "# 연습문제4\n",
    "# 이미지의 픽셀값과 레이블을 보존하기 위한 리스트를 생성\n",
    "pixels2 = [] # 설명변수\n",
    "labels2 = [] # 목적변수\n",
    "tmp = []\n",
    "\n",
    "# 각 폴더의 파일을 하나씩 읽어들여 처리한 후에 리스트에 보존\n",
    "for i, d in enumerate(dirs):\n",
    "    # 파일명을 취득\n",
    "    files = os.listdir('./data/' + d)\n",
    "    \n",
    "    for f in files:\n",
    "        # 이미지를 그레이 스케일로 리드\n",
    "        img2 = cv2.imread('./data/' + d + '/' + f)\n",
    "        # 이미지를 리사이즈\n",
    "        img2 = cv2.resize(img2, (128, 128))\n",
    "        # 픽셀 배열을 B、G、R별로 분할\n",
    "        b, g, r = cv2.split(img2)        \n",
    "        # 픽셀값을 보존\n",
    "        b = np.array(b).flatten().tolist()\n",
    "        g = np.array(g).flatten().tolist()\n",
    "        r = np.array(r).flatten().tolist()\n",
    "        tmp = b + g + r\n",
    "        pixels2.append(tmp)\n",
    "        \n",
    "        # 이미지의 레이블을 리스트에 보존\n",
    "        labels2.append(i)"
   ]
  },
  {
   "cell_type": "code",
   "execution_count": 4,
   "metadata": {},
   "outputs": [
    {
     "data": {
      "text/html": [
       "<div>\n",
       "<style scoped>\n",
       "    .dataframe tbody tr th:only-of-type {\n",
       "        vertical-align: middle;\n",
       "    }\n",
       "\n",
       "    .dataframe tbody tr th {\n",
       "        vertical-align: top;\n",
       "    }\n",
       "\n",
       "    .dataframe thead th {\n",
       "        text-align: right;\n",
       "    }\n",
       "</style>\n",
       "<table border=\"1\" class=\"dataframe\">\n",
       "  <thead>\n",
       "    <tr style=\"text-align: right;\">\n",
       "      <th></th>\n",
       "      <th>0</th>\n",
       "      <th>1</th>\n",
       "      <th>2</th>\n",
       "      <th>3</th>\n",
       "      <th>4</th>\n",
       "      <th>5</th>\n",
       "      <th>6</th>\n",
       "      <th>7</th>\n",
       "      <th>8</th>\n",
       "      <th>9</th>\n",
       "      <th>...</th>\n",
       "      <th>49143</th>\n",
       "      <th>49144</th>\n",
       "      <th>49145</th>\n",
       "      <th>49146</th>\n",
       "      <th>49147</th>\n",
       "      <th>49148</th>\n",
       "      <th>49149</th>\n",
       "      <th>49150</th>\n",
       "      <th>49151</th>\n",
       "      <th>label</th>\n",
       "    </tr>\n",
       "  </thead>\n",
       "  <tbody>\n",
       "    <tr>\n",
       "      <th>0</th>\n",
       "      <td>0.917647</td>\n",
       "      <td>0.921569</td>\n",
       "      <td>0.913725</td>\n",
       "      <td>0.921569</td>\n",
       "      <td>0.913725</td>\n",
       "      <td>0.925490</td>\n",
       "      <td>0.925490</td>\n",
       "      <td>0.925490</td>\n",
       "      <td>0.913725</td>\n",
       "      <td>0.925490</td>\n",
       "      <td>...</td>\n",
       "      <td>0.192157</td>\n",
       "      <td>0.180392</td>\n",
       "      <td>0.184314</td>\n",
       "      <td>0.172549</td>\n",
       "      <td>0.192157</td>\n",
       "      <td>0.188235</td>\n",
       "      <td>0.184314</td>\n",
       "      <td>0.176471</td>\n",
       "      <td>0.211765</td>\n",
       "      <td>0</td>\n",
       "    </tr>\n",
       "    <tr>\n",
       "      <th>1</th>\n",
       "      <td>0.662745</td>\n",
       "      <td>0.764706</td>\n",
       "      <td>0.835294</td>\n",
       "      <td>0.725490</td>\n",
       "      <td>0.792157</td>\n",
       "      <td>0.815686</td>\n",
       "      <td>0.698039</td>\n",
       "      <td>0.670588</td>\n",
       "      <td>0.611765</td>\n",
       "      <td>0.129412</td>\n",
       "      <td>...</td>\n",
       "      <td>0.878431</td>\n",
       "      <td>0.901961</td>\n",
       "      <td>0.952941</td>\n",
       "      <td>0.921569</td>\n",
       "      <td>0.905882</td>\n",
       "      <td>0.933333</td>\n",
       "      <td>0.945098</td>\n",
       "      <td>0.878431</td>\n",
       "      <td>0.847059</td>\n",
       "      <td>0</td>\n",
       "    </tr>\n",
       "    <tr>\n",
       "      <th>2</th>\n",
       "      <td>1.000000</td>\n",
       "      <td>0.956863</td>\n",
       "      <td>0.996078</td>\n",
       "      <td>0.980392</td>\n",
       "      <td>0.980392</td>\n",
       "      <td>0.933333</td>\n",
       "      <td>0.996078</td>\n",
       "      <td>0.878431</td>\n",
       "      <td>0.937255</td>\n",
       "      <td>0.964706</td>\n",
       "      <td>...</td>\n",
       "      <td>0.650980</td>\n",
       "      <td>0.517647</td>\n",
       "      <td>0.654902</td>\n",
       "      <td>0.619608</td>\n",
       "      <td>0.266667</td>\n",
       "      <td>0.376471</td>\n",
       "      <td>0.427451</td>\n",
       "      <td>0.454902</td>\n",
       "      <td>0.592157</td>\n",
       "      <td>0</td>\n",
       "    </tr>\n",
       "    <tr>\n",
       "      <th>3</th>\n",
       "      <td>0.470588</td>\n",
       "      <td>0.470588</td>\n",
       "      <td>0.478431</td>\n",
       "      <td>0.501961</td>\n",
       "      <td>0.525490</td>\n",
       "      <td>0.545098</td>\n",
       "      <td>0.552941</td>\n",
       "      <td>0.556863</td>\n",
       "      <td>0.556863</td>\n",
       "      <td>0.568627</td>\n",
       "      <td>...</td>\n",
       "      <td>0.517647</td>\n",
       "      <td>0.521569</td>\n",
       "      <td>0.529412</td>\n",
       "      <td>0.545098</td>\n",
       "      <td>0.525490</td>\n",
       "      <td>0.533333</td>\n",
       "      <td>0.533333</td>\n",
       "      <td>0.521569</td>\n",
       "      <td>0.556863</td>\n",
       "      <td>0</td>\n",
       "    </tr>\n",
       "    <tr>\n",
       "      <th>4</th>\n",
       "      <td>0.494118</td>\n",
       "      <td>0.501961</td>\n",
       "      <td>0.501961</td>\n",
       "      <td>0.521569</td>\n",
       "      <td>0.537255</td>\n",
       "      <td>0.556863</td>\n",
       "      <td>0.552941</td>\n",
       "      <td>0.556863</td>\n",
       "      <td>0.549020</td>\n",
       "      <td>0.537255</td>\n",
       "      <td>...</td>\n",
       "      <td>0.721569</td>\n",
       "      <td>0.749020</td>\n",
       "      <td>0.811765</td>\n",
       "      <td>0.709804</td>\n",
       "      <td>0.694118</td>\n",
       "      <td>0.878431</td>\n",
       "      <td>0.945098</td>\n",
       "      <td>0.764706</td>\n",
       "      <td>0.819608</td>\n",
       "      <td>0</td>\n",
       "    </tr>\n",
       "  </tbody>\n",
       "</table>\n",
       "<p>5 rows × 49153 columns</p>\n",
       "</div>"
      ],
      "text/plain": [
       "          0         1         2         3         4         5         6  \\\n",
       "0  0.917647  0.921569  0.913725  0.921569  0.913725  0.925490  0.925490   \n",
       "1  0.662745  0.764706  0.835294  0.725490  0.792157  0.815686  0.698039   \n",
       "2  1.000000  0.956863  0.996078  0.980392  0.980392  0.933333  0.996078   \n",
       "3  0.470588  0.470588  0.478431  0.501961  0.525490  0.545098  0.552941   \n",
       "4  0.494118  0.501961  0.501961  0.521569  0.537255  0.556863  0.552941   \n",
       "\n",
       "          7         8         9  ...     49143     49144     49145     49146  \\\n",
       "0  0.925490  0.913725  0.925490  ...  0.192157  0.180392  0.184314  0.172549   \n",
       "1  0.670588  0.611765  0.129412  ...  0.878431  0.901961  0.952941  0.921569   \n",
       "2  0.878431  0.937255  0.964706  ...  0.650980  0.517647  0.654902  0.619608   \n",
       "3  0.556863  0.556863  0.568627  ...  0.517647  0.521569  0.529412  0.545098   \n",
       "4  0.556863  0.549020  0.537255  ...  0.721569  0.749020  0.811765  0.709804   \n",
       "\n",
       "      49147     49148     49149     49150     49151  label  \n",
       "0  0.192157  0.188235  0.184314  0.176471  0.211765      0  \n",
       "1  0.905882  0.933333  0.945098  0.878431  0.847059      0  \n",
       "2  0.266667  0.376471  0.427451  0.454902  0.592157      0  \n",
       "3  0.525490  0.533333  0.533333  0.521569  0.556863      0  \n",
       "4  0.694118  0.878431  0.945098  0.764706  0.819608      0  \n",
       "\n",
       "[5 rows x 49153 columns]"
      ]
     },
     "execution_count": 4,
     "metadata": {},
     "output_type": "execute_result"
    }
   ],
   "source": [
    "# 연습문제4\n",
    "# 피셀값을 데이터 프레임형식으로 변환\n",
    "pixels2_df = pd.DataFrame(pixels2)\n",
    "pixels2_df = pixels2_df/255 # 正規化\n",
    "\n",
    "# 레이블을 데이터 프레임 형식으로 변환\n",
    "labels2_df = pd.DataFrame(labels2)\n",
    "labels2_df = labels2_df.rename(columns={0: 'label'})\n",
    "\n",
    "# 2개의 데이터 프레임을 수평결합\n",
    "img_set2 = pd.concat([pixels2_df, labels2_df], axis=1)\n",
    "img_set2.head()"
   ]
  },
  {
   "cell_type": "markdown",
   "metadata": {},
   "source": [
    "#### 모폴로지 변환"
   ]
  },
  {
   "cell_type": "code",
   "execution_count": 5,
   "metadata": {},
   "outputs": [
    {
     "data": {
      "text/plain": [
       "<matplotlib.image.AxesImage at 0x1bf9ad067b8>"
      ]
     },
     "execution_count": 5,
     "metadata": {},
     "output_type": "execute_result"
    },
    {
     "data": {
      "image/png": "[encoded data removed]",
      "text/plain": [
       "<Figure size 432x288 with 1 Axes>"
      ]
     },
     "metadata": {
      "needs_background": "light"
     },
     "output_type": "display_data"
    }
   ],
   "source": [
    "import matplotlib.pyplot as plt\n",
    "%matplotlib inline\n",
    "\n",
    "# 이미지를 그레이 스케일로 리드\n",
    "img = cv2.imread('./data/ants/swiss-army-ant.jpg', 0)\n",
    "# 2치화 이미지로 변환\n",
    "ret, bin_img = cv2.threshold(img, 128, 255, cv2.THRESH_BINARY)\n",
    "\n",
    "# 이미지를 압축\n",
    "kernel = np.ones((3,3), np.uint8)\n",
    "img_el = cv2.erode(bin_img, kernel, iterations=1)\n",
    "plt.imshow(img_el, cmap='gray')"
   ]
  },
  {
   "cell_type": "code",
   "execution_count": 6,
   "metadata": {},
   "outputs": [
    {
     "data": {
      "text/plain": [
       "<matplotlib.image.AxesImage at 0x1bf9ad9b1d0>"
      ]
     },
     "execution_count": 6,
     "metadata": {},
     "output_type": "execute_result"
    },
    {
     "data": {
      "image/png": "[encoded data removed]",
      "text/plain": [
       "<Figure size 432x288 with 1 Axes>"
      ]
     },
     "metadata": {
      "needs_background": "light"
     },
     "output_type": "display_data"
    }
   ],
   "source": [
    "# 이미지를 해동\n",
    "img_dl = cv2.dilate(bin_img, kernel, iterations=1)\n",
    "plt.imshow(img_dl, cmap='gray')"
   ]
  },
  {
   "cell_type": "code",
   "execution_count": 7,
   "metadata": {},
   "outputs": [
    {
     "data": {
      "text/plain": [
       "<matplotlib.image.AxesImage at 0x1bf9adfd3c8>"
      ]
     },
     "execution_count": 7,
     "metadata": {},
     "output_type": "execute_result"
    },
    {
     "data": {
      "image/png": "[encoded data removed]",
      "text/plain": [
       "<Figure size 432x288 with 1 Axes>"
      ]
     },
     "metadata": {
      "needs_background": "light"
     },
     "output_type": "display_data"
    }
   ],
   "source": [
    "# 이미지를 오픈\n",
    "img_op = cv2.morphologyEx(bin_img, cv2.MORPH_OPEN, kernel)\n",
    "plt.imshow(img_op, cmap='gray')"
   ]
  },
  {
   "cell_type": "code",
   "execution_count": 8,
   "metadata": {},
   "outputs": [
    {
     "data": {
      "text/plain": [
       "<matplotlib.image.AxesImage at 0x1bf9ae5c0f0>"
      ]
     },
     "execution_count": 8,
     "metadata": {},
     "output_type": "execute_result"
    },
    {
     "data": {
      "image/png": "[encoded data removed]",
      "text/plain": [
       "<Figure size 432x288 with 1 Axes>"
      ]
     },
     "metadata": {
      "needs_background": "light"
     },
     "output_type": "display_data"
    }
   ],
   "source": [
    "# 이미지를 클로즈\n",
    "img_cl = cv2.morphologyEx(bin_img, cv2.MORPH_CLOSE, kernel)\n",
    "plt.imshow(img_cl, cmap='gray')"
   ]
  },
  {
   "cell_type": "markdown",
   "metadata": {},
   "source": [
    "#### 히스토그램의 작성"
   ]
  },
  {
   "cell_type": "code",
   "execution_count": 9,
   "metadata": {},
   "outputs": [
    {
     "data": {
      "image/png": "[encoded data removed]",
      "text/plain": [
       "<Figure size 432x288 with 1 Axes>"
      ]
     },
     "metadata": {
      "needs_background": "light"
     },
     "output_type": "display_data"
    }
   ],
   "source": [
    "# 히스토그램의 작성\n",
    "hist_gr, bins = np.histogram(img.ravel(), 256, [0,256])\n",
    "\n",
    "# 히스토그램의 플로트\n",
    "plt.xlim(0, 255)\n",
    "plt.plot(hist_gr, '-r')\n",
    "plt.xlabel('pixel value')\n",
    "plt.ylabel('number of pixels')\n",
    "plt.show()"
   ]
  },
  {
   "cell_type": "code",
   "execution_count": 10,
   "metadata": {},
   "outputs": [
    {
     "data": {
      "image/png": "[encoded data removed]",
      "text/plain": [
       "<Figure size 432x288 with 1 Axes>"
      ]
     },
     "metadata": {
      "needs_background": "light"
     },
     "output_type": "display_data"
    }
   ],
   "source": [
    "# 연습문제5\n",
    "# 이미지를 컬러로 리드\n",
    "img = cv2.imread('./data/ants/swiss-army-ant.jpg')\n",
    "\n",
    "# RGB히스토그램을 작성\n",
    "b, g, r = img[:,:,0], img[:,:,1], img[:,:,2]\n",
    "hist_r, bins = np.histogram(r.ravel(), 256, [0,256])\n",
    "hist_g, bins = np.histogram(g.ravel(), 256, [0,256])\n",
    "hist_b, bins = np.histogram(b.ravel(), 256, [0,256])\n",
    "\n",
    "# RGB히스토그램을 플로트\n",
    "plt.xlim(0, 255)\n",
    "plt.plot(hist_r, '-r', label='red')\n",
    "plt.plot(hist_g, '-g', label='green')\n",
    "plt.plot(hist_b, '-b', label='blue')\n",
    "plt.xlabel('pixel value')\n",
    "plt.ylabel('number of pixels')\n",
    "plt.legend()\n",
    "plt.grid()\n",
    "plt.show()"
   ]
  },
  {
   "cell_type": "markdown",
   "metadata": {},
   "source": [
    "#### PCA에 의한 차원압축"
   ]
  },
  {
   "cell_type": "code",
   "execution_count": 11,
   "metadata": {},
   "outputs": [
    {
     "name": "stdout",
     "output_type": "stream",
     "text": [
      "65\n",
      "(397, 65)\n"
     ]
    }
   ],
   "source": [
    "# 연습문제6\n",
    "# PCA를 로드\n",
    "from sklearn.decomposition import PCA\n",
    "\n",
    "# 주성분을 누적기여율80%까지 추출\n",
    "pca = PCA(0.80)\n",
    "pixels_pca = pca.fit_transform(pixels_df)\n",
    "\n",
    "# 주성분을 확인\n",
    "print(pca.n_components_)\n",
    "\n",
    "# 차원압축한 데이터 세트의 사이즈를 확인\n",
    "print(pixels_pca.shape)"
   ]
  },
  {
   "cell_type": "code",
   "execution_count": 12,
   "metadata": {},
   "outputs": [
    {
     "data": {
      "text/html": [
       "<div>\n",
       "<style scoped>\n",
       "    .dataframe tbody tr th:only-of-type {\n",
       "        vertical-align: middle;\n",
       "    }\n",
       "\n",
       "    .dataframe tbody tr th {\n",
       "        vertical-align: top;\n",
       "    }\n",
       "\n",
       "    .dataframe thead th {\n",
       "        text-align: right;\n",
       "    }\n",
       "</style>\n",
       "<table border=\"1\" class=\"dataframe\">\n",
       "  <thead>\n",
       "    <tr style=\"text-align: right;\">\n",
       "      <th></th>\n",
       "      <th>0</th>\n",
       "      <th>1</th>\n",
       "      <th>2</th>\n",
       "      <th>3</th>\n",
       "      <th>4</th>\n",
       "      <th>5</th>\n",
       "      <th>6</th>\n",
       "      <th>7</th>\n",
       "      <th>8</th>\n",
       "      <th>9</th>\n",
       "      <th>...</th>\n",
       "      <th>56</th>\n",
       "      <th>57</th>\n",
       "      <th>58</th>\n",
       "      <th>59</th>\n",
       "      <th>60</th>\n",
       "      <th>61</th>\n",
       "      <th>62</th>\n",
       "      <th>63</th>\n",
       "      <th>64</th>\n",
       "      <th>label</th>\n",
       "    </tr>\n",
       "  </thead>\n",
       "  <tbody>\n",
       "    <tr>\n",
       "      <th>0</th>\n",
       "      <td>8.585932</td>\n",
       "      <td>-2.592704</td>\n",
       "      <td>1.296475</td>\n",
       "      <td>-0.270453</td>\n",
       "      <td>1.362006</td>\n",
       "      <td>-1.552697</td>\n",
       "      <td>-1.112306</td>\n",
       "      <td>-0.823676</td>\n",
       "      <td>0.730632</td>\n",
       "      <td>0.517815</td>\n",
       "      <td>...</td>\n",
       "      <td>-0.717115</td>\n",
       "      <td>-0.392132</td>\n",
       "      <td>-0.452940</td>\n",
       "      <td>0.170282</td>\n",
       "      <td>0.083957</td>\n",
       "      <td>-0.227805</td>\n",
       "      <td>-0.098932</td>\n",
       "      <td>-0.030707</td>\n",
       "      <td>-0.464957</td>\n",
       "      <td>0</td>\n",
       "    </tr>\n",
       "    <tr>\n",
       "      <th>1</th>\n",
       "      <td>31.880076</td>\n",
       "      <td>-6.093543</td>\n",
       "      <td>6.490104</td>\n",
       "      <td>8.356649</td>\n",
       "      <td>3.687303</td>\n",
       "      <td>-5.482400</td>\n",
       "      <td>-1.098567</td>\n",
       "      <td>2.470296</td>\n",
       "      <td>1.352513</td>\n",
       "      <td>0.514062</td>\n",
       "      <td>...</td>\n",
       "      <td>1.410570</td>\n",
       "      <td>0.039913</td>\n",
       "      <td>-0.730414</td>\n",
       "      <td>1.393114</td>\n",
       "      <td>0.829098</td>\n",
       "      <td>1.859050</td>\n",
       "      <td>1.778975</td>\n",
       "      <td>-0.940773</td>\n",
       "      <td>-1.131724</td>\n",
       "      <td>0</td>\n",
       "    </tr>\n",
       "    <tr>\n",
       "      <th>2</th>\n",
       "      <td>42.004818</td>\n",
       "      <td>-2.950135</td>\n",
       "      <td>-8.028556</td>\n",
       "      <td>-8.161433</td>\n",
       "      <td>-1.800311</td>\n",
       "      <td>6.361601</td>\n",
       "      <td>4.497587</td>\n",
       "      <td>-3.424305</td>\n",
       "      <td>6.002184</td>\n",
       "      <td>-3.423000</td>\n",
       "      <td>...</td>\n",
       "      <td>0.422420</td>\n",
       "      <td>-1.205339</td>\n",
       "      <td>-0.207441</td>\n",
       "      <td>-1.047376</td>\n",
       "      <td>-1.888064</td>\n",
       "      <td>0.338827</td>\n",
       "      <td>-0.047465</td>\n",
       "      <td>0.613203</td>\n",
       "      <td>-0.561086</td>\n",
       "      <td>0</td>\n",
       "    </tr>\n",
       "    <tr>\n",
       "      <th>3</th>\n",
       "      <td>-3.303601</td>\n",
       "      <td>4.567248</td>\n",
       "      <td>-5.000806</td>\n",
       "      <td>-1.761876</td>\n",
       "      <td>0.740168</td>\n",
       "      <td>5.260692</td>\n",
       "      <td>0.151167</td>\n",
       "      <td>-0.634079</td>\n",
       "      <td>1.015606</td>\n",
       "      <td>-2.544271</td>\n",
       "      <td>...</td>\n",
       "      <td>-0.629686</td>\n",
       "      <td>-0.237305</td>\n",
       "      <td>0.345499</td>\n",
       "      <td>-0.012991</td>\n",
       "      <td>-0.329349</td>\n",
       "      <td>-0.114332</td>\n",
       "      <td>-0.864171</td>\n",
       "      <td>-0.046132</td>\n",
       "      <td>-0.995686</td>\n",
       "      <td>0</td>\n",
       "    </tr>\n",
       "    <tr>\n",
       "      <th>4</th>\n",
       "      <td>11.635159</td>\n",
       "      <td>1.743388</td>\n",
       "      <td>-0.714645</td>\n",
       "      <td>0.065259</td>\n",
       "      <td>-0.623635</td>\n",
       "      <td>3.251193</td>\n",
       "      <td>2.580930</td>\n",
       "      <td>0.577941</td>\n",
       "      <td>-2.747210</td>\n",
       "      <td>-0.128650</td>\n",
       "      <td>...</td>\n",
       "      <td>-0.028143</td>\n",
       "      <td>-0.591124</td>\n",
       "      <td>-0.249288</td>\n",
       "      <td>0.193581</td>\n",
       "      <td>-0.718916</td>\n",
       "      <td>-0.538968</td>\n",
       "      <td>1.195285</td>\n",
       "      <td>1.557111</td>\n",
       "      <td>0.033498</td>\n",
       "      <td>0</td>\n",
       "    </tr>\n",
       "  </tbody>\n",
       "</table>\n",
       "<p>5 rows × 66 columns</p>\n",
       "</div>"
      ],
      "text/plain": [
       "           0         1         2         3         4         5         6  \\\n",
       "0   8.585932 -2.592704  1.296475 -0.270453  1.362006 -1.552697 -1.112306   \n",
       "1  31.880076 -6.093543  6.490104  8.356649  3.687303 -5.482400 -1.098567   \n",
       "2  42.004818 -2.950135 -8.028556 -8.161433 -1.800311  6.361601  4.497587   \n",
       "3  -3.303601  4.567248 -5.000806 -1.761876  0.740168  5.260692  0.151167   \n",
       "4  11.635159  1.743388 -0.714645  0.065259 -0.623635  3.251193  2.580930   \n",
       "\n",
       "          7         8         9  ...        56        57        58        59  \\\n",
       "0 -0.823676  0.730632  0.517815  ... -0.717115 -0.392132 -0.452940  0.170282   \n",
       "1  2.470296  1.352513  0.514062  ...  1.410570  0.039913 -0.730414  1.393114   \n",
       "2 -3.424305  6.002184 -3.423000  ...  0.422420 -1.205339 -0.207441 -1.047376   \n",
       "3 -0.634079  1.015606 -2.544271  ... -0.629686 -0.237305  0.345499 -0.012991   \n",
       "4  0.577941 -2.747210 -0.128650  ... -0.028143 -0.591124 -0.249288  0.193581   \n",
       "\n",
       "         60        61        62        63        64  label  \n",
       "0  0.083957 -0.227805 -0.098932 -0.030707 -0.464957      0  \n",
       "1  0.829098  1.859050  1.778975 -0.940773 -1.131724      0  \n",
       "2 -1.888064  0.338827 -0.047465  0.613203 -0.561086      0  \n",
       "3 -0.329349 -0.114332 -0.864171 -0.046132 -0.995686      0  \n",
       "4 -0.718916 -0.538968  1.195285  1.557111  0.033498      0  \n",
       "\n",
       "[5 rows x 66 columns]"
      ]
     },
     "execution_count": 12,
     "metadata": {},
     "output_type": "execute_result"
    }
   ],
   "source": [
    "# PCA적용후의 설명변수와 목적변수를 결합\n",
    "img_set_pca = pd.concat([pd.DataFrame(pixels_pca), labels_df], axis=1)\n",
    "img_set_pca.head()"
   ]
  },
  {
   "cell_type": "code",
   "execution_count": 13,
   "metadata": {},
   "outputs": [
    {
     "data": {
      "text/plain": [
       "<matplotlib.image.AxesImage at 0x1bf9d490e48>"
      ]
     },
     "execution_count": 13,
     "metadata": {},
     "output_type": "execute_result"
    },
    {
     "data": {
      "image/png": "[encoded data removed]",
      "text/plain": [
       "<Figure size 432x288 with 1 Axes>"
      ]
     },
     "metadata": {
      "needs_background": "light"
     },
     "output_type": "display_data"
    }
   ],
   "source": [
    "# 원래의 이미지를 플로트\n",
    "plt.imshow(np.array(pixels_df)[99].reshape(128, 128), cmap='gray')"
   ]
  },
  {
   "cell_type": "code",
   "execution_count": 14,
   "metadata": {},
   "outputs": [
    {
     "data": {
      "text/plain": [
       "<matplotlib.image.AxesImage at 0x1bf9d4f8668>"
      ]
     },
     "execution_count": 14,
     "metadata": {},
     "output_type": "execute_result"
    },
    {
     "data": {
      "image/png": "[encoded data removed]",
      "text/plain": [
       "<Figure size 432x288 with 1 Axes>"
      ]
     },
     "metadata": {
      "needs_background": "light"
     },
     "output_type": "display_data"
    }
   ],
   "source": [
    "# 압축한 이미지를 플로트\n",
    "pixels_low = pca.inverse_transform(pixels_pca)\n",
    "plt.imshow(pixels_low[99].reshape(128, 128), cmap='gray')"
   ]
  },
  {
   "cell_type": "markdown",
   "metadata": {},
   "source": [
    "#### t-SNE에 의한 차원 압축"
   ]
  },
  {
   "cell_type": "code",
   "execution_count": 15,
   "metadata": {},
   "outputs": [
    {
     "name": "stdout",
     "output_type": "stream",
     "text": [
      "(397, 16384)\n",
      "(397, 2)\n"
     ]
    },
    {
     "data": {
      "text/html": [
       "<div>\n",
       "<style scoped>\n",
       "    .dataframe tbody tr th:only-of-type {\n",
       "        vertical-align: middle;\n",
       "    }\n",
       "\n",
       "    .dataframe tbody tr th {\n",
       "        vertical-align: top;\n",
       "    }\n",
       "\n",
       "    .dataframe thead th {\n",
       "        text-align: right;\n",
       "    }\n",
       "</style>\n",
       "<table border=\"1\" class=\"dataframe\">\n",
       "  <thead>\n",
       "    <tr style=\"text-align: right;\">\n",
       "      <th></th>\n",
       "      <th>0</th>\n",
       "      <th>1</th>\n",
       "      <th>label</th>\n",
       "    </tr>\n",
       "  </thead>\n",
       "  <tbody>\n",
       "    <tr>\n",
       "      <th>0</th>\n",
       "      <td>3.247417</td>\n",
       "      <td>1.567976</td>\n",
       "      <td>0</td>\n",
       "    </tr>\n",
       "    <tr>\n",
       "      <th>1</th>\n",
       "      <td>8.683852</td>\n",
       "      <td>3.326018</td>\n",
       "      <td>0</td>\n",
       "    </tr>\n",
       "    <tr>\n",
       "      <th>2</th>\n",
       "      <td>10.260580</td>\n",
       "      <td>4.560802</td>\n",
       "      <td>0</td>\n",
       "    </tr>\n",
       "    <tr>\n",
       "      <th>3</th>\n",
       "      <td>-3.147284</td>\n",
       "      <td>0.069943</td>\n",
       "      <td>0</td>\n",
       "    </tr>\n",
       "    <tr>\n",
       "      <th>4</th>\n",
       "      <td>4.108634</td>\n",
       "      <td>3.655192</td>\n",
       "      <td>0</td>\n",
       "    </tr>\n",
       "  </tbody>\n",
       "</table>\n",
       "</div>"
      ],
      "text/plain": [
       "           0         1  label\n",
       "0   3.247417  1.567976      0\n",
       "1   8.683852  3.326018      0\n",
       "2  10.260580  4.560802      0\n",
       "3  -3.147284  0.069943      0\n",
       "4   4.108634  3.655192      0"
      ]
     },
     "execution_count": 15,
     "metadata": {},
     "output_type": "execute_result"
    }
   ],
   "source": [
    "from sklearn.manifold import TSNE\n",
    "\n",
    "# 특징량을 2축 추출\n",
    "tsne = TSNE(n_components=2)\n",
    "pixels_tsne = tsne.fit_transform(pixels_df)\n",
    "\n",
    "# 차원수를 확인\n",
    "print(pixels_df.shape) # 압축전\n",
    "print(pixels_tsne.shape) # 압축후\n",
    "\n",
    "# t-SNE적용후의 설명변수와 목적변수를 결합\n",
    "img_set_tsne = pd.concat([pd.DataFrame(pixels_tsne), labels_df], axis=1)\n",
    "img_set_tsne.head()"
   ]
  },
  {
   "cell_type": "code",
   "execution_count": 16,
   "metadata": {},
   "outputs": [
    {
     "data": {
      "image/png": "[encoded data removed]",
      "text/plain": [
       "<Figure size 432x288 with 1 Axes>"
      ]
     },
     "metadata": {
      "needs_background": "light"
     },
     "output_type": "display_data"
    }
   ],
   "source": [
    "# 0을 플로트\n",
    "img_set_tsne_0 = img_set_tsne[img_set_tsne['label'] == 0]\n",
    "img_set_tsne_0 = img_set_tsne_0.drop('label', axis=1)\n",
    "plt.scatter(img_set_tsne_0[0], img_set_tsne_0[1], c='red', label=0)\n",
    "# 1을 플로트\n",
    "img_set_tsne_1 = img_set_tsne[img_set_tsne['label'] == 1]\n",
    "img_set_tsne_1 = img_set_tsne_1.drop('label', axis=1)\n",
    "plt.scatter(img_set_tsne_1[0], img_set_tsne_1[1], c='blue', label=1)\n",
    "\n",
    "plt.xlabel('1st-comp')\n",
    "plt.ylabel('2nd-comp')\n",
    "plt.legend()\n",
    "plt.grid()\n",
    "plt.show()"
   ]
  }
 ],
 "metadata": {
  "kernelspec": {
   "display_name": "Python 3",
   "language": "python",
   "name": "python3"
  },
  "language_info": {
   "codemirror_mode": {
    "name": "ipython",
    "version": 3
   },
   "file_extension": ".py",
   "mimetype": "text/x-python",
   "name": "python",
   "nbconvert_exporter": "python",
   "pygments_lexer": "ipython3",
   "version": "3.7.7"
  }
 },
 "nbformat": 4,
 "nbformat_minor": 4
}
