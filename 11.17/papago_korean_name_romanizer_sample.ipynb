{
  "cells": [
    {
      "cell_type": "code",
      "metadata": {},
      "source": [
        "\n",
        "import requests\n",
        "\n",
        "client_id = \"\"\n",
        "client_secret = \"\"\n",
        "\n",
        "url = \"https://naveropenapi.apigw.ntruss.com/krdict/v1/romanization?query=\" + '\ud5c8\ucc3d\ud604'\n",
        "\n",
        "headers = {\n",
        "    \"X-NCP-APIGW-API-KEY-ID\": client_id,\n",
        "    \"X-NCP-APIGW-API-KEY\": client_secret\n",
        "}\n",
        "\n",
        "response = requests.get(url, headers=headers)\n",
        "rescode = response.status_code\n",
        "\n",
        "if rescode == 200:\n",
        "    print(response.text)\n",
        "else:\n",
        "    print(\"Error : \" + response.text)"
      ],
      "outputs": [],
      "execution_count": null
    }
  ],
  "metadata": {
    "anaconda-cloud": {},
    "kernelspec": {
      "display_name": "Python 3",
      "language": "python",
      "name": "python3"
    },
    "language_info": {
      "codemirror_mode": {
        "name": "ipython",
        "version": 3
      },
      "file_extension": ".py",
      "mimetype": "text/x-python",
      "name": "python",
      "nbconvert_exporter": "python",
      "pygments_lexer": "ipython3",
      "version": "3.6.1"
    }
  },
  "nbformat": 4,
  "nbformat_minor": 4
}