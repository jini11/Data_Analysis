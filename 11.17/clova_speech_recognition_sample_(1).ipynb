{
  "nbformat": 4,
  "nbformat_minor": 0,
  "metadata": {
    "anaconda-cloud": {},
    "kernelspec": {
      "display_name": "Python 3",
      "language": "python",
      "name": "python3"
    },
    "language_info": {
      "codemirror_mode": {
        "name": "ipython",
        "version": 3
      },
      "file_extension": ".py",
      "mimetype": "text/x-python",
      "name": "python",
      "nbconvert_exporter": "python",
      "pygments_lexer": "ipython3",
      "version": "3.6.1"
    },
    "colab": {
      "name": "clova_speech_recognition_sample (1).ipynb",
      "provenance": [],
      "collapsed_sections": []
    }
  },
  "cells": [
    {
      "cell_type": "code",
      "metadata": {
        "colab": {
          "base_uri": "https://localhost:8080/"
        },
        "id": "guzgxqaYsn5g",
        "outputId": "e77c1472-8ecc-4ba9-98fb-f4767a272905"
      },
      "source": [
        "import requests\n",
        "\n",
        "client_id = \"키 id\"\n",
        "client_secret = \"키\"\n",
        "\n",
        "lang = \"Kor\"    # 언어 코드 ( Kor, Jpn, Eng, Chn )\n",
        "url = \"https://naveropenapi.apigw.ntruss.com/recog/v1/stt?lang=\" + lang\n",
        "\n",
        "data = open('/content/음성 001.m4a', 'rb')\n",
        "#data = open('./contents/news.mp3', 'rb')\n",
        "#data = open('./contents/kr_book.mp3', 'rb')\n",
        "\n",
        "headers = {\n",
        "    \"X-NCP-APIGW-API-KEY-ID\": client_id,\n",
        "    \"X-NCP-APIGW-API-KEY\": client_secret,\n",
        "    \"Content-Type\": \"application/octet-stream\"\n",
        "}\n",
        "\n",
        "response = requests.post(url,  data=data, headers=headers)\n",
        "\n",
        "rescode = response.status_code\n",
        "\n",
        "if(rescode == 200):\n",
        "    print(response.text)\n",
        "else:\n",
        "    print(\"Error : \" + response.text)"
      ],
      "execution_count": null,
      "outputs": [
        {
          "output_type": "stream",
          "name": "stdout",
          "text": [
            "{\"text\":\"저는 지난주에 천안에서 강의를 했습니다\"}\n"
          ]
        }
      ]
    }
  ]
}