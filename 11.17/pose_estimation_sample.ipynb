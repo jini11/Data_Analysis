{
  "cells": [
    {
      "cell_type": "code",
      "metadata": {},
      "source": [
        "import requests\n",
        "client_id = \"\"\n",
        "client_secret = \"\"\n",
        "\n",
        "url = \"https://naveropenapi.apigw.ntruss.com/vision-pose/v1/estimate\"\n",
        "\n",
        "files = {\n",
        "    'image': open('./contents/golf_form.jpg', 'rb')\n",
        "    #'image': open('./contents/iu.jpg', 'rb')\n",
        "}\n",
        "\n",
        "headers = {\n",
        "    'X-NCP-APIGW-API-KEY-ID': client_id,\n",
        "    'X-NCP-APIGW-API-KEY': client_secret\n",
        "}\n",
        "\n",
        "response = requests.post(url,  files=files, headers=headers)\n",
        "rescode = response.status_code\n",
        "\n",
        "if rescode == 200:\n",
        "    print(response.text)\n",
        "else:\n",
        "    print(\"Error Code:\" + rescode)"
      ],
      "outputs": [],
      "execution_count": null
    }
  ],
  "metadata": {
    "anaconda-cloud": {},
    "kernelspec": {
      "display_name": "Python 3",
      "language": "python",
      "name": "python3"
    },
    "language_info": {
      "codemirror_mode": {
        "name": "ipython",
        "version": 3
      },
      "file_extension": ".py",
      "mimetype": "text/x-python",
      "name": "python",
      "nbconvert_exporter": "python",
      "pygments_lexer": "ipython3",
      "version": "3.6.1"
    }
  },
  "nbformat": 4,
  "nbformat_minor": 4
}